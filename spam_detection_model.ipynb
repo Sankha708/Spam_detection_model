{
 "cells": [
  {
   "cell_type": "code",
   "execution_count": 1,
   "id": "d5884862",
   "metadata": {
    "execution": {
     "iopub.execute_input": "2025-03-14T14:55:29.828954Z",
     "iopub.status.busy": "2025-03-14T14:55:29.828393Z",
     "iopub.status.idle": "2025-03-14T14:55:29.834826Z",
     "shell.execute_reply": "2025-03-14T14:55:29.833537Z"
    },
    "papermill": {
     "duration": 0.028474,
     "end_time": "2025-03-14T14:55:29.836859",
     "exception": false,
     "start_time": "2025-03-14T14:55:29.808385",
     "status": "completed"
    },
    "tags": []
   },
   "outputs": [],
   "source": [
    "## spam classifier made by Sankha  Baidya"
   ]
  },
  {
   "cell_type": "code",
   "execution_count": 2,
   "id": "6220c9a9",
   "metadata": {
    "execution": {
     "iopub.execute_input": "2025-03-14T14:55:29.874028Z",
     "iopub.status.busy": "2025-03-14T14:55:29.873633Z",
     "iopub.status.idle": "2025-03-14T14:55:31.024907Z",
     "shell.execute_reply": "2025-03-14T14:55:31.023504Z"
    },
    "papermill": {
     "duration": 1.171864,
     "end_time": "2025-03-14T14:55:31.027022",
     "exception": false,
     "start_time": "2025-03-14T14:55:29.855158",
     "status": "completed"
    },
    "tags": []
   },
   "outputs": [],
   "source": [
    "import pandas as pd\n",
    "import numpy as np\n",
    "import matplotlib.pyplot as plt"
   ]
  },
  {
   "cell_type": "code",
   "execution_count": 3,
   "id": "2ef5e5a3",
   "metadata": {
    "execution": {
     "iopub.execute_input": "2025-03-14T14:55:31.064428Z",
     "iopub.status.busy": "2025-03-14T14:55:31.063631Z",
     "iopub.status.idle": "2025-03-14T14:55:31.117144Z",
     "shell.execute_reply": "2025-03-14T14:55:31.115852Z"
    },
    "papermill": {
     "duration": 0.074162,
     "end_time": "2025-03-14T14:55:31.119373",
     "exception": false,
     "start_time": "2025-03-14T14:55:31.045211",
     "status": "completed"
    },
    "tags": []
   },
   "outputs": [],
   "source": [
    "df=pd.read_csv('spam.csv', encoding='ISO-8859-1')"
   ]
  },
  {
   "cell_type": "code",
   "execution_count": 4,
   "id": "46d26fde",
   "metadata": {
    "execution": {
     "iopub.execute_input": "2025-03-14T14:55:31.156852Z",
     "iopub.status.busy": "2025-03-14T14:55:31.156412Z",
     "iopub.status.idle": "2025-03-14T14:55:31.182820Z",
     "shell.execute_reply": "2025-03-14T14:55:31.181326Z"
    },
    "papermill": {
     "duration": 0.047285,
     "end_time": "2025-03-14T14:55:31.185087",
     "exception": false,
     "start_time": "2025-03-14T14:55:31.137802",
     "status": "completed"
    },
    "tags": []
   },
   "outputs": [
    {
     "data": {
      "text/plain": [
       "<bound method NDFrame.head of         v1                                                 v2 Unnamed: 2  \\\n",
       "0      ham  Go until jurong point, crazy.. Available only ...        NaN   \n",
       "1      ham                      Ok lar... Joking wif u oni...        NaN   \n",
       "2     spam  Free entry in 2 a wkly comp to win FA Cup fina...        NaN   \n",
       "3      ham  U dun say so early hor... U c already then say...        NaN   \n",
       "4      ham  Nah I don't think he goes to usf, he lives aro...        NaN   \n",
       "...    ...                                                ...        ...   \n",
       "5567  spam  This is the 2nd time we have tried 2 contact u...        NaN   \n",
       "5568   ham              Will Ì_ b going to esplanade fr home?        NaN   \n",
       "5569   ham  Pity, * was in mood for that. So...any other s...        NaN   \n",
       "5570   ham  The guy did some bitching but I acted like i'd...        NaN   \n",
       "5571   ham                         Rofl. Its true to its name        NaN   \n",
       "\n",
       "     Unnamed: 3 Unnamed: 4  \n",
       "0           NaN        NaN  \n",
       "1           NaN        NaN  \n",
       "2           NaN        NaN  \n",
       "3           NaN        NaN  \n",
       "4           NaN        NaN  \n",
       "...         ...        ...  \n",
       "5567        NaN        NaN  \n",
       "5568        NaN        NaN  \n",
       "5569        NaN        NaN  \n",
       "5570        NaN        NaN  \n",
       "5571        NaN        NaN  \n",
       "\n",
       "[5572 rows x 5 columns]>"
      ]
     },
     "execution_count": 4,
     "metadata": {},
     "output_type": "execute_result"
    }
   ],
   "source": [
    "df.head"
   ]
  },
  {
   "cell_type": "code",
   "execution_count": 5,
   "id": "c59e4b2b",
   "metadata": {
    "execution": {
     "iopub.execute_input": "2025-03-14T14:55:31.225329Z",
     "iopub.status.busy": "2025-03-14T14:55:31.224922Z",
     "iopub.status.idle": "2025-03-14T14:55:31.236182Z",
     "shell.execute_reply": "2025-03-14T14:55:31.234982Z"
    },
    "papermill": {
     "duration": 0.034341,
     "end_time": "2025-03-14T14:55:31.238072",
     "exception": false,
     "start_time": "2025-03-14T14:55:31.203731",
     "status": "completed"
    },
    "tags": []
   },
   "outputs": [
    {
     "data": {
      "text/plain": [
       "<bound method DataFrame.value_counts of         v1                                                 v2 Unnamed: 2  \\\n",
       "0      ham  Go until jurong point, crazy.. Available only ...        NaN   \n",
       "1      ham                      Ok lar... Joking wif u oni...        NaN   \n",
       "2     spam  Free entry in 2 a wkly comp to win FA Cup fina...        NaN   \n",
       "3      ham  U dun say so early hor... U c already then say...        NaN   \n",
       "4      ham  Nah I don't think he goes to usf, he lives aro...        NaN   \n",
       "...    ...                                                ...        ...   \n",
       "5567  spam  This is the 2nd time we have tried 2 contact u...        NaN   \n",
       "5568   ham              Will Ì_ b going to esplanade fr home?        NaN   \n",
       "5569   ham  Pity, * was in mood for that. So...any other s...        NaN   \n",
       "5570   ham  The guy did some bitching but I acted like i'd...        NaN   \n",
       "5571   ham                         Rofl. Its true to its name        NaN   \n",
       "\n",
       "     Unnamed: 3 Unnamed: 4  \n",
       "0           NaN        NaN  \n",
       "1           NaN        NaN  \n",
       "2           NaN        NaN  \n",
       "3           NaN        NaN  \n",
       "4           NaN        NaN  \n",
       "...         ...        ...  \n",
       "5567        NaN        NaN  \n",
       "5568        NaN        NaN  \n",
       "5569        NaN        NaN  \n",
       "5570        NaN        NaN  \n",
       "5571        NaN        NaN  \n",
       "\n",
       "[5572 rows x 5 columns]>"
      ]
     },
     "execution_count": 5,
     "metadata": {},
     "output_type": "execute_result"
    }
   ],
   "source": [
    "df.value_counts"
   ]
  },
  {
   "cell_type": "code",
   "execution_count": 6,
   "id": "47369894",
   "metadata": {
    "execution": {
     "iopub.execute_input": "2025-03-14T14:55:31.278470Z",
     "iopub.status.busy": "2025-03-14T14:55:31.278126Z",
     "iopub.status.idle": "2025-03-14T14:55:31.288026Z",
     "shell.execute_reply": "2025-03-14T14:55:31.286603Z"
    },
    "papermill": {
     "duration": 0.031257,
     "end_time": "2025-03-14T14:55:31.290342",
     "exception": false,
     "start_time": "2025-03-14T14:55:31.259085",
     "status": "completed"
    },
    "tags": []
   },
   "outputs": [
    {
     "data": {
      "text/plain": [
       "<bound method NDFrame.describe of         v1                                                 v2 Unnamed: 2  \\\n",
       "0      ham  Go until jurong point, crazy.. Available only ...        NaN   \n",
       "1      ham                      Ok lar... Joking wif u oni...        NaN   \n",
       "2     spam  Free entry in 2 a wkly comp to win FA Cup fina...        NaN   \n",
       "3      ham  U dun say so early hor... U c already then say...        NaN   \n",
       "4      ham  Nah I don't think he goes to usf, he lives aro...        NaN   \n",
       "...    ...                                                ...        ...   \n",
       "5567  spam  This is the 2nd time we have tried 2 contact u...        NaN   \n",
       "5568   ham              Will Ì_ b going to esplanade fr home?        NaN   \n",
       "5569   ham  Pity, * was in mood for that. So...any other s...        NaN   \n",
       "5570   ham  The guy did some bitching but I acted like i'd...        NaN   \n",
       "5571   ham                         Rofl. Its true to its name        NaN   \n",
       "\n",
       "     Unnamed: 3 Unnamed: 4  \n",
       "0           NaN        NaN  \n",
       "1           NaN        NaN  \n",
       "2           NaN        NaN  \n",
       "3           NaN        NaN  \n",
       "4           NaN        NaN  \n",
       "...         ...        ...  \n",
       "5567        NaN        NaN  \n",
       "5568        NaN        NaN  \n",
       "5569        NaN        NaN  \n",
       "5570        NaN        NaN  \n",
       "5571        NaN        NaN  \n",
       "\n",
       "[5572 rows x 5 columns]>"
      ]
     },
     "execution_count": 6,
     "metadata": {},
     "output_type": "execute_result"
    }
   ],
   "source": [
    "df.describe"
   ]
  },
  {
   "cell_type": "code",
   "execution_count": 7,
   "id": "4289cc8d",
   "metadata": {
    "execution": {
     "iopub.execute_input": "2025-03-14T14:55:31.327446Z",
     "iopub.status.busy": "2025-03-14T14:55:31.327084Z",
     "iopub.status.idle": "2025-03-14T14:55:31.333869Z",
     "shell.execute_reply": "2025-03-14T14:55:31.332636Z"
    },
    "papermill": {
     "duration": 0.027897,
     "end_time": "2025-03-14T14:55:31.335980",
     "exception": false,
     "start_time": "2025-03-14T14:55:31.308083",
     "status": "completed"
    },
    "tags": []
   },
   "outputs": [
    {
     "data": {
      "text/plain": [
       "Index(['v1', 'v2', 'Unnamed: 2', 'Unnamed: 3', 'Unnamed: 4'], dtype='object')"
      ]
     },
     "execution_count": 7,
     "metadata": {},
     "output_type": "execute_result"
    }
   ],
   "source": [
    "df.columns"
   ]
  },
  {
   "cell_type": "code",
   "execution_count": 8,
   "id": "be510809",
   "metadata": {
    "execution": {
     "iopub.execute_input": "2025-03-14T14:55:31.373782Z",
     "iopub.status.busy": "2025-03-14T14:55:31.373375Z",
     "iopub.status.idle": "2025-03-14T14:55:31.395026Z",
     "shell.execute_reply": "2025-03-14T14:55:31.393787Z"
    },
    "papermill": {
     "duration": 0.042701,
     "end_time": "2025-03-14T14:55:31.397125",
     "exception": false,
     "start_time": "2025-03-14T14:55:31.354424",
     "status": "completed"
    },
    "tags": []
   },
   "outputs": [
    {
     "data": {
      "text/html": [
       "<div>\n",
       "<style scoped>\n",
       "    .dataframe tbody tr th:only-of-type {\n",
       "        vertical-align: middle;\n",
       "    }\n",
       "\n",
       "    .dataframe tbody tr th {\n",
       "        vertical-align: top;\n",
       "    }\n",
       "\n",
       "    .dataframe thead th {\n",
       "        text-align: right;\n",
       "    }\n",
       "</style>\n",
       "<table border=\"1\" class=\"dataframe\">\n",
       "  <thead>\n",
       "    <tr style=\"text-align: right;\">\n",
       "      <th></th>\n",
       "      <th>v1</th>\n",
       "      <th>v2</th>\n",
       "      <th>Unnamed: 2</th>\n",
       "      <th>Unnamed: 3</th>\n",
       "      <th>Unnamed: 4</th>\n",
       "    </tr>\n",
       "  </thead>\n",
       "  <tbody>\n",
       "    <tr>\n",
       "      <th>3241</th>\n",
       "      <td>ham</td>\n",
       "      <td>Good Morning my Dear........... Have a great &amp;...</td>\n",
       "      <td>NaN</td>\n",
       "      <td>NaN</td>\n",
       "      <td>NaN</td>\n",
       "    </tr>\n",
       "    <tr>\n",
       "      <th>2006</th>\n",
       "      <td>ham</td>\n",
       "      <td>Shopping lor. Them raining mah hard 2 leave or...</td>\n",
       "      <td>NaN</td>\n",
       "      <td>NaN</td>\n",
       "      <td>NaN</td>\n",
       "    </tr>\n",
       "    <tr>\n",
       "      <th>5429</th>\n",
       "      <td>ham</td>\n",
       "      <td>Er yeah, i will b there at 15:26, sorry! Just ...</td>\n",
       "      <td>NaN</td>\n",
       "      <td>NaN</td>\n",
       "      <td>NaN</td>\n",
       "    </tr>\n",
       "    <tr>\n",
       "      <th>4423</th>\n",
       "      <td>ham</td>\n",
       "      <td>Update your face book status frequently :)</td>\n",
       "      <td>NaN</td>\n",
       "      <td>NaN</td>\n",
       "      <td>NaN</td>\n",
       "    </tr>\n",
       "    <tr>\n",
       "      <th>4163</th>\n",
       "      <td>ham</td>\n",
       "      <td>Its ok, called mom instead have fun</td>\n",
       "      <td>NaN</td>\n",
       "      <td>NaN</td>\n",
       "      <td>NaN</td>\n",
       "    </tr>\n",
       "  </tbody>\n",
       "</table>\n",
       "</div>"
      ],
      "text/plain": [
       "       v1                                                 v2 Unnamed: 2  \\\n",
       "3241  ham  Good Morning my Dear........... Have a great &...        NaN   \n",
       "2006  ham  Shopping lor. Them raining mah hard 2 leave or...        NaN   \n",
       "5429  ham  Er yeah, i will b there at 15:26, sorry! Just ...        NaN   \n",
       "4423  ham         Update your face book status frequently :)        NaN   \n",
       "4163  ham                Its ok, called mom instead have fun        NaN   \n",
       "\n",
       "     Unnamed: 3 Unnamed: 4  \n",
       "3241        NaN        NaN  \n",
       "2006        NaN        NaN  \n",
       "5429        NaN        NaN  \n",
       "4423        NaN        NaN  \n",
       "4163        NaN        NaN  "
      ]
     },
     "execution_count": 8,
     "metadata": {},
     "output_type": "execute_result"
    }
   ],
   "source": [
    "df.sample(5)"
   ]
  },
  {
   "cell_type": "markdown",
   "id": "e83281f2",
   "metadata": {
    "papermill": {
     "duration": 0.017301,
     "end_time": "2025-03-14T14:55:31.432388",
     "exception": false,
     "start_time": "2025-03-14T14:55:31.415087",
     "status": "completed"
    },
    "tags": []
   },
   "source": [
    "## data cleaning"
   ]
  },
  {
   "cell_type": "code",
   "execution_count": 9,
   "id": "48bf7fd8",
   "metadata": {
    "execution": {
     "iopub.execute_input": "2025-03-14T14:55:31.470969Z",
     "iopub.status.busy": "2025-03-14T14:55:31.470528Z",
     "iopub.status.idle": "2025-03-14T14:55:31.480265Z",
     "shell.execute_reply": "2025-03-14T14:55:31.479090Z"
    },
    "papermill": {
     "duration": 0.031079,
     "end_time": "2025-03-14T14:55:31.482336",
     "exception": false,
     "start_time": "2025-03-14T14:55:31.451257",
     "status": "completed"
    },
    "tags": []
   },
   "outputs": [
    {
     "data": {
      "text/plain": [
       "<bound method DataFrame.info of         v1                                                 v2 Unnamed: 2  \\\n",
       "0      ham  Go until jurong point, crazy.. Available only ...        NaN   \n",
       "1      ham                      Ok lar... Joking wif u oni...        NaN   \n",
       "2     spam  Free entry in 2 a wkly comp to win FA Cup fina...        NaN   \n",
       "3      ham  U dun say so early hor... U c already then say...        NaN   \n",
       "4      ham  Nah I don't think he goes to usf, he lives aro...        NaN   \n",
       "...    ...                                                ...        ...   \n",
       "5567  spam  This is the 2nd time we have tried 2 contact u...        NaN   \n",
       "5568   ham              Will Ì_ b going to esplanade fr home?        NaN   \n",
       "5569   ham  Pity, * was in mood for that. So...any other s...        NaN   \n",
       "5570   ham  The guy did some bitching but I acted like i'd...        NaN   \n",
       "5571   ham                         Rofl. Its true to its name        NaN   \n",
       "\n",
       "     Unnamed: 3 Unnamed: 4  \n",
       "0           NaN        NaN  \n",
       "1           NaN        NaN  \n",
       "2           NaN        NaN  \n",
       "3           NaN        NaN  \n",
       "4           NaN        NaN  \n",
       "...         ...        ...  \n",
       "5567        NaN        NaN  \n",
       "5568        NaN        NaN  \n",
       "5569        NaN        NaN  \n",
       "5570        NaN        NaN  \n",
       "5571        NaN        NaN  \n",
       "\n",
       "[5572 rows x 5 columns]>"
      ]
     },
     "execution_count": 9,
     "metadata": {},
     "output_type": "execute_result"
    }
   ],
   "source": [
    "df. info"
   ]
  },
  {
   "cell_type": "code",
   "execution_count": 10,
   "id": "85b2b446",
   "metadata": {
    "execution": {
     "iopub.execute_input": "2025-03-14T14:55:31.520417Z",
     "iopub.status.busy": "2025-03-14T14:55:31.520083Z",
     "iopub.status.idle": "2025-03-14T14:55:31.524435Z",
     "shell.execute_reply": "2025-03-14T14:55:31.523206Z"
    },
    "papermill": {
     "duration": 0.025487,
     "end_time": "2025-03-14T14:55:31.526451",
     "exception": false,
     "start_time": "2025-03-14T14:55:31.500964",
     "status": "completed"
    },
    "tags": []
   },
   "outputs": [],
   "source": [
    "# df.info"
   ]
  },
  {
   "cell_type": "code",
   "execution_count": 11,
   "id": "36a1af0d",
   "metadata": {
    "execution": {
     "iopub.execute_input": "2025-03-14T14:55:31.565586Z",
     "iopub.status.busy": "2025-03-14T14:55:31.565250Z",
     "iopub.status.idle": "2025-03-14T14:55:31.592466Z",
     "shell.execute_reply": "2025-03-14T14:55:31.591077Z"
    },
    "papermill": {
     "duration": 0.047831,
     "end_time": "2025-03-14T14:55:31.594218",
     "exception": false,
     "start_time": "2025-03-14T14:55:31.546387",
     "status": "completed"
    },
    "tags": []
   },
   "outputs": [
    {
     "name": "stdout",
     "output_type": "stream",
     "text": [
      "<class 'pandas.core.frame.DataFrame'>\n",
      "RangeIndex: 5572 entries, 0 to 5571\n",
      "Data columns (total 5 columns):\n",
      " #   Column      Non-Null Count  Dtype \n",
      "---  ------      --------------  ----- \n",
      " 0   v1          5572 non-null   object\n",
      " 1   v2          5572 non-null   object\n",
      " 2   Unnamed: 2  50 non-null     object\n",
      " 3   Unnamed: 3  12 non-null     object\n",
      " 4   Unnamed: 4  6 non-null      object\n",
      "dtypes: object(5)\n",
      "memory usage: 217.8+ KB\n"
     ]
    }
   ],
   "source": [
    "df.info()"
   ]
  },
  {
   "cell_type": "code",
   "execution_count": 12,
   "id": "feca76a4",
   "metadata": {
    "execution": {
     "iopub.execute_input": "2025-03-14T14:55:31.632071Z",
     "iopub.status.busy": "2025-03-14T14:55:31.631587Z",
     "iopub.status.idle": "2025-03-14T14:55:31.639785Z",
     "shell.execute_reply": "2025-03-14T14:55:31.638458Z"
    },
    "papermill": {
     "duration": 0.029202,
     "end_time": "2025-03-14T14:55:31.641646",
     "exception": false,
     "start_time": "2025-03-14T14:55:31.612444",
     "status": "completed"
    },
    "tags": []
   },
   "outputs": [],
   "source": [
    "df.drop(columns=['Unnamed: 2','Unnamed: 3','Unnamed: 4'],inplace=True)"
   ]
  },
  {
   "cell_type": "code",
   "execution_count": 13,
   "id": "fe6a4294",
   "metadata": {
    "execution": {
     "iopub.execute_input": "2025-03-14T14:55:31.681147Z",
     "iopub.status.busy": "2025-03-14T14:55:31.680603Z",
     "iopub.status.idle": "2025-03-14T14:55:31.693525Z",
     "shell.execute_reply": "2025-03-14T14:55:31.692035Z"
    },
    "papermill": {
     "duration": 0.035454,
     "end_time": "2025-03-14T14:55:31.695725",
     "exception": false,
     "start_time": "2025-03-14T14:55:31.660271",
     "status": "completed"
    },
    "tags": []
   },
   "outputs": [
    {
     "name": "stdout",
     "output_type": "stream",
     "text": [
      "<class 'pandas.core.frame.DataFrame'>\n",
      "RangeIndex: 5572 entries, 0 to 5571\n",
      "Data columns (total 2 columns):\n",
      " #   Column  Non-Null Count  Dtype \n",
      "---  ------  --------------  ----- \n",
      " 0   v1      5572 non-null   object\n",
      " 1   v2      5572 non-null   object\n",
      "dtypes: object(2)\n",
      "memory usage: 87.2+ KB\n"
     ]
    }
   ],
   "source": [
    "df.info()"
   ]
  },
  {
   "cell_type": "code",
   "execution_count": 14,
   "id": "e66a54b2",
   "metadata": {
    "execution": {
     "iopub.execute_input": "2025-03-14T14:55:31.734385Z",
     "iopub.status.busy": "2025-03-14T14:55:31.733951Z",
     "iopub.status.idle": "2025-03-14T14:55:31.739824Z",
     "shell.execute_reply": "2025-03-14T14:55:31.738506Z"
    },
    "papermill": {
     "duration": 0.027101,
     "end_time": "2025-03-14T14:55:31.741934",
     "exception": false,
     "start_time": "2025-03-14T14:55:31.714833",
     "status": "completed"
    },
    "tags": []
   },
   "outputs": [],
   "source": [
    "df.rename(columns={'v1':'target','v2':'text'},inplace=True)"
   ]
  },
  {
   "cell_type": "code",
   "execution_count": 15,
   "id": "f4f23fdf",
   "metadata": {
    "execution": {
     "iopub.execute_input": "2025-03-14T14:55:31.781765Z",
     "iopub.status.busy": "2025-03-14T14:55:31.781281Z",
     "iopub.status.idle": "2025-03-14T14:55:31.794023Z",
     "shell.execute_reply": "2025-03-14T14:55:31.792335Z"
    },
    "papermill": {
     "duration": 0.035127,
     "end_time": "2025-03-14T14:55:31.796189",
     "exception": false,
     "start_time": "2025-03-14T14:55:31.761062",
     "status": "completed"
    },
    "tags": []
   },
   "outputs": [
    {
     "name": "stdout",
     "output_type": "stream",
     "text": [
      "<class 'pandas.core.frame.DataFrame'>\n",
      "RangeIndex: 5572 entries, 0 to 5571\n",
      "Data columns (total 2 columns):\n",
      " #   Column  Non-Null Count  Dtype \n",
      "---  ------  --------------  ----- \n",
      " 0   target  5572 non-null   object\n",
      " 1   text    5572 non-null   object\n",
      "dtypes: object(2)\n",
      "memory usage: 87.2+ KB\n"
     ]
    }
   ],
   "source": [
    "df.info()"
   ]
  },
  {
   "cell_type": "code",
   "execution_count": 16,
   "id": "c6dd3caa",
   "metadata": {
    "execution": {
     "iopub.execute_input": "2025-03-14T14:55:31.835220Z",
     "iopub.status.busy": "2025-03-14T14:55:31.834721Z",
     "iopub.status.idle": "2025-03-14T14:55:31.844139Z",
     "shell.execute_reply": "2025-03-14T14:55:31.842905Z"
    },
    "papermill": {
     "duration": 0.031336,
     "end_time": "2025-03-14T14:55:31.846032",
     "exception": false,
     "start_time": "2025-03-14T14:55:31.814696",
     "status": "completed"
    },
    "tags": []
   },
   "outputs": [
    {
     "data": {
      "text/plain": [
       "target\n",
       "ham     4825\n",
       "spam     747\n",
       "Name: count, dtype: int64"
      ]
     },
     "execution_count": 16,
     "metadata": {},
     "output_type": "execute_result"
    }
   ],
   "source": [
    "df['target'].value_counts()"
   ]
  },
  {
   "cell_type": "code",
   "execution_count": 17,
   "id": "0f3d1167",
   "metadata": {
    "execution": {
     "iopub.execute_input": "2025-03-14T14:55:31.976124Z",
     "iopub.status.busy": "2025-03-14T14:55:31.975583Z",
     "iopub.status.idle": "2025-03-14T14:55:33.697924Z",
     "shell.execute_reply": "2025-03-14T14:55:33.696522Z"
    },
    "papermill": {
     "duration": 1.835157,
     "end_time": "2025-03-14T14:55:33.700371",
     "exception": false,
     "start_time": "2025-03-14T14:55:31.865214",
     "status": "completed"
    },
    "tags": []
   },
   "outputs": [],
   "source": [
    "from sklearn.preprocessing import LabelEncoder\n",
    "encoder=LabelEncoder()\n",
    "\n"
   ]
  },
  {
   "cell_type": "code",
   "execution_count": 18,
   "id": "f449f0d6",
   "metadata": {
    "execution": {
     "iopub.execute_input": "2025-03-14T14:55:33.741102Z",
     "iopub.status.busy": "2025-03-14T14:55:33.740348Z",
     "iopub.status.idle": "2025-03-14T14:55:33.747638Z",
     "shell.execute_reply": "2025-03-14T14:55:33.746511Z"
    },
    "papermill": {
     "duration": 0.029715,
     "end_time": "2025-03-14T14:55:33.749474",
     "exception": false,
     "start_time": "2025-03-14T14:55:33.719759",
     "status": "completed"
    },
    "tags": []
   },
   "outputs": [],
   "source": [
    "df['target']=encoder.fit_transform(df['target'])"
   ]
  },
  {
   "cell_type": "code",
   "execution_count": 19,
   "id": "f749ae61",
   "metadata": {
    "execution": {
     "iopub.execute_input": "2025-03-14T14:55:33.788540Z",
     "iopub.status.busy": "2025-03-14T14:55:33.788041Z",
     "iopub.status.idle": "2025-03-14T14:55:33.798871Z",
     "shell.execute_reply": "2025-03-14T14:55:33.797844Z"
    },
    "papermill": {
     "duration": 0.032417,
     "end_time": "2025-03-14T14:55:33.800690",
     "exception": false,
     "start_time": "2025-03-14T14:55:33.768273",
     "status": "completed"
    },
    "tags": []
   },
   "outputs": [
    {
     "data": {
      "text/plain": [
       "target\n",
       "0    4825\n",
       "1     747\n",
       "Name: count, dtype: int64"
      ]
     },
     "execution_count": 19,
     "metadata": {},
     "output_type": "execute_result"
    }
   ],
   "source": [
    "df['target'].value_counts()"
   ]
  },
  {
   "cell_type": "code",
   "execution_count": 20,
   "id": "36ebf57c",
   "metadata": {
    "execution": {
     "iopub.execute_input": "2025-03-14T14:55:33.839761Z",
     "iopub.status.busy": "2025-03-14T14:55:33.839302Z",
     "iopub.status.idle": "2025-03-14T14:55:33.849840Z",
     "shell.execute_reply": "2025-03-14T14:55:33.848824Z"
    },
    "papermill": {
     "duration": 0.032527,
     "end_time": "2025-03-14T14:55:33.851742",
     "exception": false,
     "start_time": "2025-03-14T14:55:33.819215",
     "status": "completed"
    },
    "tags": []
   },
   "outputs": [
    {
     "data": {
      "text/html": [
       "<div>\n",
       "<style scoped>\n",
       "    .dataframe tbody tr th:only-of-type {\n",
       "        vertical-align: middle;\n",
       "    }\n",
       "\n",
       "    .dataframe tbody tr th {\n",
       "        vertical-align: top;\n",
       "    }\n",
       "\n",
       "    .dataframe thead th {\n",
       "        text-align: right;\n",
       "    }\n",
       "</style>\n",
       "<table border=\"1\" class=\"dataframe\">\n",
       "  <thead>\n",
       "    <tr style=\"text-align: right;\">\n",
       "      <th></th>\n",
       "      <th>target</th>\n",
       "      <th>text</th>\n",
       "    </tr>\n",
       "  </thead>\n",
       "  <tbody>\n",
       "    <tr>\n",
       "      <th>4830</th>\n",
       "      <td>0</td>\n",
       "      <td>Po de :-):):-):-):-). No need job aha.</td>\n",
       "    </tr>\n",
       "    <tr>\n",
       "      <th>1469</th>\n",
       "      <td>0</td>\n",
       "      <td>7 wonders in My WORLD 7th You 6th Ur style 5th...</td>\n",
       "    </tr>\n",
       "    <tr>\n",
       "      <th>951</th>\n",
       "      <td>0</td>\n",
       "      <td>Shb b ok lor... Thanx...</td>\n",
       "    </tr>\n",
       "    <tr>\n",
       "      <th>4650</th>\n",
       "      <td>1</td>\n",
       "      <td>A å£400 XMAS REWARD IS WAITING FOR YOU! Our co...</td>\n",
       "    </tr>\n",
       "    <tr>\n",
       "      <th>1865</th>\n",
       "      <td>0</td>\n",
       "      <td>Call to the number which is available in appoi...</td>\n",
       "    </tr>\n",
       "  </tbody>\n",
       "</table>\n",
       "</div>"
      ],
      "text/plain": [
       "      target                                               text\n",
       "4830       0             Po de :-):):-):-):-). No need job aha.\n",
       "1469       0  7 wonders in My WORLD 7th You 6th Ur style 5th...\n",
       "951        0                           Shb b ok lor... Thanx...\n",
       "4650       1  A å£400 XMAS REWARD IS WAITING FOR YOU! Our co...\n",
       "1865       0  Call to the number which is available in appoi..."
      ]
     },
     "execution_count": 20,
     "metadata": {},
     "output_type": "execute_result"
    }
   ],
   "source": [
    "df.sample(5)"
   ]
  },
  {
   "cell_type": "code",
   "execution_count": 21,
   "id": "bcb8ba64",
   "metadata": {
    "execution": {
     "iopub.execute_input": "2025-03-14T14:55:33.891905Z",
     "iopub.status.busy": "2025-03-14T14:55:33.891431Z",
     "iopub.status.idle": "2025-03-14T14:55:33.900434Z",
     "shell.execute_reply": "2025-03-14T14:55:33.899230Z"
    },
    "papermill": {
     "duration": 0.030993,
     "end_time": "2025-03-14T14:55:33.902335",
     "exception": false,
     "start_time": "2025-03-14T14:55:33.871342",
     "status": "completed"
    },
    "tags": []
   },
   "outputs": [
    {
     "data": {
      "text/plain": [
       "target    0\n",
       "text      0\n",
       "dtype: int64"
      ]
     },
     "execution_count": 21,
     "metadata": {},
     "output_type": "execute_result"
    }
   ],
   "source": [
    "df.isnull().sum()"
   ]
  },
  {
   "cell_type": "code",
   "execution_count": 22,
   "id": "16042b65",
   "metadata": {
    "execution": {
     "iopub.execute_input": "2025-03-14T14:55:33.943163Z",
     "iopub.status.busy": "2025-03-14T14:55:33.942728Z",
     "iopub.status.idle": "2025-03-14T14:55:33.953236Z",
     "shell.execute_reply": "2025-03-14T14:55:33.952081Z"
    },
    "papermill": {
     "duration": 0.033259,
     "end_time": "2025-03-14T14:55:33.955108",
     "exception": false,
     "start_time": "2025-03-14T14:55:33.921849",
     "status": "completed"
    },
    "tags": []
   },
   "outputs": [
    {
     "data": {
      "text/plain": [
       "np.int64(403)"
      ]
     },
     "execution_count": 22,
     "metadata": {},
     "output_type": "execute_result"
    }
   ],
   "source": [
    "df.duplicated().sum()"
   ]
  },
  {
   "cell_type": "code",
   "execution_count": 23,
   "id": "a1f4a6db",
   "metadata": {
    "execution": {
     "iopub.execute_input": "2025-03-14T14:55:33.994176Z",
     "iopub.status.busy": "2025-03-14T14:55:33.993752Z",
     "iopub.status.idle": "2025-03-14T14:55:34.003452Z",
     "shell.execute_reply": "2025-03-14T14:55:34.001927Z"
    },
    "papermill": {
     "duration": 0.032651,
     "end_time": "2025-03-14T14:55:34.006714",
     "exception": false,
     "start_time": "2025-03-14T14:55:33.974063",
     "status": "completed"
    },
    "tags": []
   },
   "outputs": [],
   "source": [
    "df=df.drop_duplicates(keep='first')"
   ]
  },
  {
   "cell_type": "code",
   "execution_count": 24,
   "id": "f99b042d",
   "metadata": {
    "execution": {
     "iopub.execute_input": "2025-03-14T14:55:34.046495Z",
     "iopub.status.busy": "2025-03-14T14:55:34.046093Z",
     "iopub.status.idle": "2025-03-14T14:55:34.057518Z",
     "shell.execute_reply": "2025-03-14T14:55:34.056310Z"
    },
    "papermill": {
     "duration": 0.033903,
     "end_time": "2025-03-14T14:55:34.059545",
     "exception": false,
     "start_time": "2025-03-14T14:55:34.025642",
     "status": "completed"
    },
    "tags": []
   },
   "outputs": [
    {
     "data": {
      "text/plain": [
       "np.int64(0)"
      ]
     },
     "execution_count": 24,
     "metadata": {},
     "output_type": "execute_result"
    }
   ],
   "source": [
    "df.duplicated().sum()"
   ]
  },
  {
   "cell_type": "code",
   "execution_count": 25,
   "id": "db05aa23",
   "metadata": {
    "execution": {
     "iopub.execute_input": "2025-03-14T14:55:34.100887Z",
     "iopub.status.busy": "2025-03-14T14:55:34.100418Z",
     "iopub.status.idle": "2025-03-14T14:55:34.107602Z",
     "shell.execute_reply": "2025-03-14T14:55:34.106243Z"
    },
    "papermill": {
     "duration": 0.031017,
     "end_time": "2025-03-14T14:55:34.110104",
     "exception": false,
     "start_time": "2025-03-14T14:55:34.079087",
     "status": "completed"
    },
    "tags": []
   },
   "outputs": [
    {
     "data": {
      "text/plain": [
       "(5169, 2)"
      ]
     },
     "execution_count": 25,
     "metadata": {},
     "output_type": "execute_result"
    }
   ],
   "source": [
    "df.shape"
   ]
  },
  {
   "cell_type": "code",
   "execution_count": 26,
   "id": "f42597ac",
   "metadata": {
    "execution": {
     "iopub.execute_input": "2025-03-14T14:55:34.150418Z",
     "iopub.status.busy": "2025-03-14T14:55:34.149992Z",
     "iopub.status.idle": "2025-03-14T14:55:34.155322Z",
     "shell.execute_reply": "2025-03-14T14:55:34.154116Z"
    },
    "papermill": {
     "duration": 0.028386,
     "end_time": "2025-03-14T14:55:34.158007",
     "exception": false,
     "start_time": "2025-03-14T14:55:34.129621",
     "status": "completed"
    },
    "tags": []
   },
   "outputs": [],
   "source": [
    "df_copy=df.copy()"
   ]
  },
  {
   "cell_type": "markdown",
   "id": "d8e41f0b",
   "metadata": {
    "papermill": {
     "duration": 0.018573,
     "end_time": "2025-03-14T14:55:34.196261",
     "exception": false,
     "start_time": "2025-03-14T14:55:34.177688",
     "status": "completed"
    },
    "tags": []
   },
   "source": [
    "## EDA\n"
   ]
  },
  {
   "cell_type": "code",
   "execution_count": 27,
   "id": "31a8e8ee",
   "metadata": {
    "execution": {
     "iopub.execute_input": "2025-03-14T14:55:34.236342Z",
     "iopub.status.busy": "2025-03-14T14:55:34.235883Z",
     "iopub.status.idle": "2025-03-14T14:55:34.240676Z",
     "shell.execute_reply": "2025-03-14T14:55:34.239510Z"
    },
    "papermill": {
     "duration": 0.027637,
     "end_time": "2025-03-14T14:55:34.242684",
     "exception": false,
     "start_time": "2025-03-14T14:55:34.215047",
     "status": "completed"
    },
    "tags": []
   },
   "outputs": [],
   "source": [
    "# x=df['text']\n",
    "# y=df['target']"
   ]
  },
  {
   "cell_type": "code",
   "execution_count": 28,
   "id": "4fc8f5de",
   "metadata": {
    "execution": {
     "iopub.execute_input": "2025-03-14T14:55:34.285094Z",
     "iopub.status.busy": "2025-03-14T14:55:34.284573Z",
     "iopub.status.idle": "2025-03-14T14:55:34.289255Z",
     "shell.execute_reply": "2025-03-14T14:55:34.288025Z"
    },
    "papermill": {
     "duration": 0.029227,
     "end_time": "2025-03-14T14:55:34.291130",
     "exception": false,
     "start_time": "2025-03-14T14:55:34.261903",
     "status": "completed"
    },
    "tags": []
   },
   "outputs": [],
   "source": [
    "# from imblearn.over_sampling import SMOTE\n",
    "\n",
    "# smote = SMOTE(random_state=42)\n",
    "# x_resampled, y_resampled = smote.fit_resample(x,y)"
   ]
  },
  {
   "cell_type": "code",
   "execution_count": 29,
   "id": "f77b002b",
   "metadata": {
    "execution": {
     "iopub.execute_input": "2025-03-14T14:55:34.331097Z",
     "iopub.status.busy": "2025-03-14T14:55:34.330621Z",
     "iopub.status.idle": "2025-03-14T14:55:34.553371Z",
     "shell.execute_reply": "2025-03-14T14:55:34.552258Z"
    },
    "papermill": {
     "duration": 0.245004,
     "end_time": "2025-03-14T14:55:34.555449",
     "exception": false,
     "start_time": "2025-03-14T14:55:34.310445",
     "status": "completed"
    },
    "tags": []
   },
   "outputs": [
    {
     "data": {
      "text/plain": [
       "([<matplotlib.patches.Wedge at 0x24d8b10fec0>,\n",
       "  <matplotlib.patches.Wedge at 0x24dffe429f0>],\n",
       " [Text(-1.014499732282844, 0.4251944181172162, 'ham'),\n",
       "  Text(1.0144998708287172, -0.42519408755122207, 'spam')],\n",
       " [Text(-0.5533634903360967, 0.2319242280639361, '87.37'),\n",
       "  Text(0.553363565906573, -0.231924047755212, '12.63')])"
      ]
     },
     "execution_count": 29,
     "metadata": {},
     "output_type": "execute_result"
    },
    {
     "data": {
      "image/png": "[encoded data removed]",
      "text/plain": [
       "<Figure size 640x480 with 1 Axes>"
      ]
     },
     "metadata": {},
     "output_type": "display_data"
    }
   ],
   "source": [
    "plt.pie(df['target'].value_counts(),labels=['ham','spam'],autopct=\"%0.2f\")"
   ]
  },
  {
   "cell_type": "code",
   "execution_count": 30,
   "id": "6f327990",
   "metadata": {
    "execution": {
     "iopub.execute_input": "2025-03-14T14:55:34.599292Z",
     "iopub.status.busy": "2025-03-14T14:55:34.598810Z",
     "iopub.status.idle": "2025-03-14T14:55:35.521070Z",
     "shell.execute_reply": "2025-03-14T14:55:35.519802Z"
    },
    "papermill": {
     "duration": 0.947223,
     "end_time": "2025-03-14T14:55:35.523356",
     "exception": false,
     "start_time": "2025-03-14T14:55:34.576133",
     "status": "completed"
    },
    "tags": []
   },
   "outputs": [],
   "source": [
    "import nltk"
   ]
  },
  {
   "cell_type": "code",
   "execution_count": 31,
   "id": "071003e8",
   "metadata": {
    "execution": {
     "iopub.execute_input": "2025-03-14T14:55:35.565616Z",
     "iopub.status.busy": "2025-03-14T14:55:35.565236Z",
     "iopub.status.idle": "2025-03-14T14:56:07.594021Z",
     "shell.execute_reply": "2025-03-14T14:56:07.592532Z"
    },
    "papermill": {
     "duration": 32.072161,
     "end_time": "2025-03-14T14:56:07.615426",
     "exception": false,
     "start_time": "2025-03-14T14:55:35.543265",
     "status": "completed"
    },
    "tags": []
   },
   "outputs": [
    {
     "name": "stderr",
     "output_type": "stream",
     "text": [
      "[nltk_data] Downloading package punkt_tab to\n",
      "[nltk_data]     C:\\Users\\arpan\\AppData\\Roaming\\nltk_data...\n",
      "[nltk_data]   Package punkt_tab is already up-to-date!\n"
     ]
    },
    {
     "data": {
      "text/plain": [
       "True"
      ]
     },
     "execution_count": 31,
     "metadata": {},
     "output_type": "execute_result"
    }
   ],
   "source": [
    "# nltk.download('punkt')\n",
    "nltk.download('punkt_tab')\n"
   ]
  },
  {
   "cell_type": "code",
   "execution_count": 32,
   "id": "b728a13b",
   "metadata": {
    "execution": {
     "iopub.execute_input": "2025-03-14T14:56:07.656630Z",
     "iopub.status.busy": "2025-03-14T14:56:07.656256Z",
     "iopub.status.idle": "2025-03-14T14:56:07.666418Z",
     "shell.execute_reply": "2025-03-14T14:56:07.664861Z"
    },
    "papermill": {
     "duration": 0.033081,
     "end_time": "2025-03-14T14:56:07.668341",
     "exception": false,
     "start_time": "2025-03-14T14:56:07.635260",
     "status": "completed"
    },
    "tags": []
   },
   "outputs": [
    {
     "name": "stderr",
     "output_type": "stream",
     "text": [
      "C:\\Users\\arpan\\AppData\\Local\\Temp\\ipykernel_22992\\399031894.py:1: SettingWithCopyWarning: \n",
      "A value is trying to be set on a copy of a slice from a DataFrame.\n",
      "Try using .loc[row_indexer,col_indexer] = value instead\n",
      "\n",
      "See the caveats in the documentation: https://pandas.pydata.org/pandas-docs/stable/user_guide/indexing.html#returning-a-view-versus-a-copy\n",
      "  df['num_characters']=df['text'].apply(len)\n"
     ]
    }
   ],
   "source": [
    "df['num_characters']=df['text'].apply(len)"
   ]
  },
  {
   "cell_type": "code",
   "execution_count": 33,
   "id": "5e276cac",
   "metadata": {
    "execution": {
     "iopub.execute_input": "2025-03-14T14:56:07.709399Z",
     "iopub.status.busy": "2025-03-14T14:56:07.709000Z",
     "iopub.status.idle": "2025-03-14T14:56:07.719399Z",
     "shell.execute_reply": "2025-03-14T14:56:07.718147Z"
    },
    "papermill": {
     "duration": 0.03339,
     "end_time": "2025-03-14T14:56:07.721529",
     "exception": false,
     "start_time": "2025-03-14T14:56:07.688139",
     "status": "completed"
    },
    "tags": []
   },
   "outputs": [
    {
     "data": {
      "text/plain": [
       "<bound method NDFrame.head of       target                                               text  \\\n",
       "0          0  Go until jurong point, crazy.. Available only ...   \n",
       "1          0                      Ok lar... Joking wif u oni...   \n",
       "2          1  Free entry in 2 a wkly comp to win FA Cup fina...   \n",
       "3          0  U dun say so early hor... U c already then say...   \n",
       "4          0  Nah I don't think he goes to usf, he lives aro...   \n",
       "...      ...                                                ...   \n",
       "5567       1  This is the 2nd time we have tried 2 contact u...   \n",
       "5568       0              Will Ì_ b going to esplanade fr home?   \n",
       "5569       0  Pity, * was in mood for that. So...any other s...   \n",
       "5570       0  The guy did some bitching but I acted like i'd...   \n",
       "5571       0                         Rofl. Its true to its name   \n",
       "\n",
       "      num_characters  \n",
       "0                111  \n",
       "1                 29  \n",
       "2                155  \n",
       "3                 49  \n",
       "4                 61  \n",
       "...              ...  \n",
       "5567             161  \n",
       "5568              37  \n",
       "5569              57  \n",
       "5570             125  \n",
       "5571              26  \n",
       "\n",
       "[5169 rows x 3 columns]>"
      ]
     },
     "execution_count": 33,
     "metadata": {},
     "output_type": "execute_result"
    }
   ],
   "source": [
    "df.head"
   ]
  },
  {
   "cell_type": "code",
   "execution_count": 34,
   "id": "3acae146",
   "metadata": {
    "execution": {
     "iopub.execute_input": "2025-03-14T14:56:07.762841Z",
     "iopub.status.busy": "2025-03-14T14:56:07.762438Z",
     "iopub.status.idle": "2025-03-14T14:56:07.772620Z",
     "shell.execute_reply": "2025-03-14T14:56:07.771439Z"
    },
    "papermill": {
     "duration": 0.033363,
     "end_time": "2025-03-14T14:56:07.774602",
     "exception": false,
     "start_time": "2025-03-14T14:56:07.741239",
     "status": "completed"
    },
    "tags": []
   },
   "outputs": [
    {
     "data": {
      "text/html": [
       "<div>\n",
       "<style scoped>\n",
       "    .dataframe tbody tr th:only-of-type {\n",
       "        vertical-align: middle;\n",
       "    }\n",
       "\n",
       "    .dataframe tbody tr th {\n",
       "        vertical-align: top;\n",
       "    }\n",
       "\n",
       "    .dataframe thead th {\n",
       "        text-align: right;\n",
       "    }\n",
       "</style>\n",
       "<table border=\"1\" class=\"dataframe\">\n",
       "  <thead>\n",
       "    <tr style=\"text-align: right;\">\n",
       "      <th></th>\n",
       "      <th>target</th>\n",
       "      <th>text</th>\n",
       "      <th>num_characters</th>\n",
       "    </tr>\n",
       "  </thead>\n",
       "  <tbody>\n",
       "    <tr>\n",
       "      <th>0</th>\n",
       "      <td>0</td>\n",
       "      <td>Go until jurong point, crazy.. Available only ...</td>\n",
       "      <td>111</td>\n",
       "    </tr>\n",
       "    <tr>\n",
       "      <th>1</th>\n",
       "      <td>0</td>\n",
       "      <td>Ok lar... Joking wif u oni...</td>\n",
       "      <td>29</td>\n",
       "    </tr>\n",
       "    <tr>\n",
       "      <th>2</th>\n",
       "      <td>1</td>\n",
       "      <td>Free entry in 2 a wkly comp to win FA Cup fina...</td>\n",
       "      <td>155</td>\n",
       "    </tr>\n",
       "    <tr>\n",
       "      <th>3</th>\n",
       "      <td>0</td>\n",
       "      <td>U dun say so early hor... U c already then say...</td>\n",
       "      <td>49</td>\n",
       "    </tr>\n",
       "    <tr>\n",
       "      <th>4</th>\n",
       "      <td>0</td>\n",
       "      <td>Nah I don't think he goes to usf, he lives aro...</td>\n",
       "      <td>61</td>\n",
       "    </tr>\n",
       "  </tbody>\n",
       "</table>\n",
       "</div>"
      ],
      "text/plain": [
       "   target                                               text  num_characters\n",
       "0       0  Go until jurong point, crazy.. Available only ...             111\n",
       "1       0                      Ok lar... Joking wif u oni...              29\n",
       "2       1  Free entry in 2 a wkly comp to win FA Cup fina...             155\n",
       "3       0  U dun say so early hor... U c already then say...              49\n",
       "4       0  Nah I don't think he goes to usf, he lives aro...              61"
      ]
     },
     "execution_count": 34,
     "metadata": {},
     "output_type": "execute_result"
    }
   ],
   "source": [
    "df.head()"
   ]
  },
  {
   "cell_type": "code",
   "execution_count": 35,
   "id": "159e5f51",
   "metadata": {
    "execution": {
     "iopub.execute_input": "2025-03-14T14:56:07.816343Z",
     "iopub.status.busy": "2025-03-14T14:56:07.816012Z",
     "iopub.status.idle": "2025-03-14T14:56:07.836483Z",
     "shell.execute_reply": "2025-03-14T14:56:07.834958Z"
    },
    "papermill": {
     "duration": 0.043347,
     "end_time": "2025-03-14T14:56:07.838629",
     "exception": false,
     "start_time": "2025-03-14T14:56:07.795282",
     "status": "completed"
    },
    "tags": []
   },
   "outputs": [
    {
     "name": "stdout",
     "output_type": "stream",
     "text": [
      "['This', 'is', 'a', 'test', 'sentence', '.']\n"
     ]
    }
   ],
   "source": [
    "from nltk.tokenize import word_tokenize\n",
    "\n",
    "print(word_tokenize(\"This is a test sentence.\"))\n"
   ]
  },
  {
   "cell_type": "code",
   "execution_count": 36,
   "id": "0cf84d41",
   "metadata": {
    "execution": {
     "iopub.execute_input": "2025-03-14T14:56:07.880173Z",
     "iopub.status.busy": "2025-03-14T14:56:07.879716Z",
     "iopub.status.idle": "2025-03-14T14:56:08.973624Z",
     "shell.execute_reply": "2025-03-14T14:56:08.972210Z"
    },
    "papermill": {
     "duration": 1.116783,
     "end_time": "2025-03-14T14:56:08.975841",
     "exception": false,
     "start_time": "2025-03-14T14:56:07.859058",
     "status": "completed"
    },
    "tags": []
   },
   "outputs": [
    {
     "name": "stderr",
     "output_type": "stream",
     "text": [
      "C:\\Users\\arpan\\AppData\\Local\\Temp\\ipykernel_22992\\1118471538.py:1: SettingWithCopyWarning: \n",
      "A value is trying to be set on a copy of a slice from a DataFrame.\n",
      "Try using .loc[row_indexer,col_indexer] = value instead\n",
      "\n",
      "See the caveats in the documentation: https://pandas.pydata.org/pandas-docs/stable/user_guide/indexing.html#returning-a-view-versus-a-copy\n",
      "  df['num_words']=df['text'].apply(lambda x:len(nltk.word_tokenize(x)))\n"
     ]
    }
   ],
   "source": [
    "df['num_words']=df['text'].apply(lambda x:len(nltk.word_tokenize(x)))"
   ]
  },
  {
   "cell_type": "code",
   "execution_count": 37,
   "id": "ab002d68",
   "metadata": {
    "execution": {
     "iopub.execute_input": "2025-03-14T14:56:09.020888Z",
     "iopub.status.busy": "2025-03-14T14:56:09.020493Z",
     "iopub.status.idle": "2025-03-14T14:56:09.030818Z",
     "shell.execute_reply": "2025-03-14T14:56:09.029544Z"
    },
    "papermill": {
     "duration": 0.036546,
     "end_time": "2025-03-14T14:56:09.033000",
     "exception": false,
     "start_time": "2025-03-14T14:56:08.996454",
     "status": "completed"
    },
    "tags": []
   },
   "outputs": [
    {
     "data": {
      "text/html": [
       "<div>\n",
       "<style scoped>\n",
       "    .dataframe tbody tr th:only-of-type {\n",
       "        vertical-align: middle;\n",
       "    }\n",
       "\n",
       "    .dataframe tbody tr th {\n",
       "        vertical-align: top;\n",
       "    }\n",
       "\n",
       "    .dataframe thead th {\n",
       "        text-align: right;\n",
       "    }\n",
       "</style>\n",
       "<table border=\"1\" class=\"dataframe\">\n",
       "  <thead>\n",
       "    <tr style=\"text-align: right;\">\n",
       "      <th></th>\n",
       "      <th>target</th>\n",
       "      <th>text</th>\n",
       "      <th>num_characters</th>\n",
       "      <th>num_words</th>\n",
       "    </tr>\n",
       "  </thead>\n",
       "  <tbody>\n",
       "    <tr>\n",
       "      <th>0</th>\n",
       "      <td>0</td>\n",
       "      <td>Go until jurong point, crazy.. Available only ...</td>\n",
       "      <td>111</td>\n",
       "      <td>24</td>\n",
       "    </tr>\n",
       "    <tr>\n",
       "      <th>1</th>\n",
       "      <td>0</td>\n",
       "      <td>Ok lar... Joking wif u oni...</td>\n",
       "      <td>29</td>\n",
       "      <td>8</td>\n",
       "    </tr>\n",
       "    <tr>\n",
       "      <th>2</th>\n",
       "      <td>1</td>\n",
       "      <td>Free entry in 2 a wkly comp to win FA Cup fina...</td>\n",
       "      <td>155</td>\n",
       "      <td>37</td>\n",
       "    </tr>\n",
       "    <tr>\n",
       "      <th>3</th>\n",
       "      <td>0</td>\n",
       "      <td>U dun say so early hor... U c already then say...</td>\n",
       "      <td>49</td>\n",
       "      <td>13</td>\n",
       "    </tr>\n",
       "    <tr>\n",
       "      <th>4</th>\n",
       "      <td>0</td>\n",
       "      <td>Nah I don't think he goes to usf, he lives aro...</td>\n",
       "      <td>61</td>\n",
       "      <td>15</td>\n",
       "    </tr>\n",
       "  </tbody>\n",
       "</table>\n",
       "</div>"
      ],
      "text/plain": [
       "   target                                               text  num_characters  \\\n",
       "0       0  Go until jurong point, crazy.. Available only ...             111   \n",
       "1       0                      Ok lar... Joking wif u oni...              29   \n",
       "2       1  Free entry in 2 a wkly comp to win FA Cup fina...             155   \n",
       "3       0  U dun say so early hor... U c already then say...              49   \n",
       "4       0  Nah I don't think he goes to usf, he lives aro...              61   \n",
       "\n",
       "   num_words  \n",
       "0         24  \n",
       "1          8  \n",
       "2         37  \n",
       "3         13  \n",
       "4         15  "
      ]
     },
     "execution_count": 37,
     "metadata": {},
     "output_type": "execute_result"
    }
   ],
   "source": [
    "df.head()"
   ]
  },
  {
   "cell_type": "code",
   "execution_count": 38,
   "id": "fca194fb",
   "metadata": {
    "execution": {
     "iopub.execute_input": "2025-03-14T14:56:09.076032Z",
     "iopub.status.busy": "2025-03-14T14:56:09.075518Z",
     "iopub.status.idle": "2025-03-14T14:56:09.365529Z",
     "shell.execute_reply": "2025-03-14T14:56:09.364050Z"
    },
    "papermill": {
     "duration": 0.313638,
     "end_time": "2025-03-14T14:56:09.367563",
     "exception": false,
     "start_time": "2025-03-14T14:56:09.053925",
     "status": "completed"
    },
    "tags": []
   },
   "outputs": [
    {
     "name": "stderr",
     "output_type": "stream",
     "text": [
      "C:\\Users\\arpan\\AppData\\Local\\Temp\\ipykernel_22992\\754723001.py:1: SettingWithCopyWarning: \n",
      "A value is trying to be set on a copy of a slice from a DataFrame.\n",
      "Try using .loc[row_indexer,col_indexer] = value instead\n",
      "\n",
      "See the caveats in the documentation: https://pandas.pydata.org/pandas-docs/stable/user_guide/indexing.html#returning-a-view-versus-a-copy\n",
      "  df['num_sentences']=df['text'].apply(lambda x:len(nltk.sent_tokenize(x)))\n"
     ]
    }
   ],
   "source": [
    "df['num_sentences']=df['text'].apply(lambda x:len(nltk.sent_tokenize(x)))"
   ]
  },
  {
   "cell_type": "code",
   "execution_count": 39,
   "id": "788898ad",
   "metadata": {
    "execution": {
     "iopub.execute_input": "2025-03-14T14:56:09.411437Z",
     "iopub.status.busy": "2025-03-14T14:56:09.411019Z",
     "iopub.status.idle": "2025-03-14T14:56:09.423384Z",
     "shell.execute_reply": "2025-03-14T14:56:09.421906Z"
    },
    "papermill": {
     "duration": 0.037936,
     "end_time": "2025-03-14T14:56:09.425410",
     "exception": false,
     "start_time": "2025-03-14T14:56:09.387474",
     "status": "completed"
    },
    "tags": []
   },
   "outputs": [
    {
     "data": {
      "text/html": [
       "<div>\n",
       "<style scoped>\n",
       "    .dataframe tbody tr th:only-of-type {\n",
       "        vertical-align: middle;\n",
       "    }\n",
       "\n",
       "    .dataframe tbody tr th {\n",
       "        vertical-align: top;\n",
       "    }\n",
       "\n",
       "    .dataframe thead th {\n",
       "        text-align: right;\n",
       "    }\n",
       "</style>\n",
       "<table border=\"1\" class=\"dataframe\">\n",
       "  <thead>\n",
       "    <tr style=\"text-align: right;\">\n",
       "      <th></th>\n",
       "      <th>target</th>\n",
       "      <th>text</th>\n",
       "      <th>num_characters</th>\n",
       "      <th>num_words</th>\n",
       "      <th>num_sentences</th>\n",
       "    </tr>\n",
       "  </thead>\n",
       "  <tbody>\n",
       "    <tr>\n",
       "      <th>0</th>\n",
       "      <td>0</td>\n",
       "      <td>Go until jurong point, crazy.. Available only ...</td>\n",
       "      <td>111</td>\n",
       "      <td>24</td>\n",
       "      <td>2</td>\n",
       "    </tr>\n",
       "    <tr>\n",
       "      <th>1</th>\n",
       "      <td>0</td>\n",
       "      <td>Ok lar... Joking wif u oni...</td>\n",
       "      <td>29</td>\n",
       "      <td>8</td>\n",
       "      <td>2</td>\n",
       "    </tr>\n",
       "    <tr>\n",
       "      <th>2</th>\n",
       "      <td>1</td>\n",
       "      <td>Free entry in 2 a wkly comp to win FA Cup fina...</td>\n",
       "      <td>155</td>\n",
       "      <td>37</td>\n",
       "      <td>2</td>\n",
       "    </tr>\n",
       "    <tr>\n",
       "      <th>3</th>\n",
       "      <td>0</td>\n",
       "      <td>U dun say so early hor... U c already then say...</td>\n",
       "      <td>49</td>\n",
       "      <td>13</td>\n",
       "      <td>1</td>\n",
       "    </tr>\n",
       "    <tr>\n",
       "      <th>4</th>\n",
       "      <td>0</td>\n",
       "      <td>Nah I don't think he goes to usf, he lives aro...</td>\n",
       "      <td>61</td>\n",
       "      <td>15</td>\n",
       "      <td>1</td>\n",
       "    </tr>\n",
       "  </tbody>\n",
       "</table>\n",
       "</div>"
      ],
      "text/plain": [
       "   target                                               text  num_characters  \\\n",
       "0       0  Go until jurong point, crazy.. Available only ...             111   \n",
       "1       0                      Ok lar... Joking wif u oni...              29   \n",
       "2       1  Free entry in 2 a wkly comp to win FA Cup fina...             155   \n",
       "3       0  U dun say so early hor... U c already then say...              49   \n",
       "4       0  Nah I don't think he goes to usf, he lives aro...              61   \n",
       "\n",
       "   num_words  num_sentences  \n",
       "0         24              2  \n",
       "1          8              2  \n",
       "2         37              2  \n",
       "3         13              1  \n",
       "4         15              1  "
      ]
     },
     "execution_count": 39,
     "metadata": {},
     "output_type": "execute_result"
    }
   ],
   "source": [
    "df.head()\n"
   ]
  },
  {
   "cell_type": "code",
   "execution_count": 40,
   "id": "44c62894",
   "metadata": {
    "execution": {
     "iopub.execute_input": "2025-03-14T14:56:09.469463Z",
     "iopub.status.busy": "2025-03-14T14:56:09.469043Z",
     "iopub.status.idle": "2025-03-14T14:56:09.495060Z",
     "shell.execute_reply": "2025-03-14T14:56:09.493582Z"
    },
    "papermill": {
     "duration": 0.049594,
     "end_time": "2025-03-14T14:56:09.497214",
     "exception": false,
     "start_time": "2025-03-14T14:56:09.447620",
     "status": "completed"
    },
    "tags": []
   },
   "outputs": [
    {
     "data": {
      "text/html": [
       "<div>\n",
       "<style scoped>\n",
       "    .dataframe tbody tr th:only-of-type {\n",
       "        vertical-align: middle;\n",
       "    }\n",
       "\n",
       "    .dataframe tbody tr th {\n",
       "        vertical-align: top;\n",
       "    }\n",
       "\n",
       "    .dataframe thead th {\n",
       "        text-align: right;\n",
       "    }\n",
       "</style>\n",
       "<table border=\"1\" class=\"dataframe\">\n",
       "  <thead>\n",
       "    <tr style=\"text-align: right;\">\n",
       "      <th></th>\n",
       "      <th>num_characters</th>\n",
       "      <th>num_words</th>\n",
       "      <th>num_sentences</th>\n",
       "    </tr>\n",
       "  </thead>\n",
       "  <tbody>\n",
       "    <tr>\n",
       "      <th>count</th>\n",
       "      <td>5169.000000</td>\n",
       "      <td>5169.000000</td>\n",
       "      <td>5169.000000</td>\n",
       "    </tr>\n",
       "    <tr>\n",
       "      <th>mean</th>\n",
       "      <td>78.977945</td>\n",
       "      <td>18.455794</td>\n",
       "      <td>1.965564</td>\n",
       "    </tr>\n",
       "    <tr>\n",
       "      <th>std</th>\n",
       "      <td>58.236293</td>\n",
       "      <td>13.324758</td>\n",
       "      <td>1.448541</td>\n",
       "    </tr>\n",
       "    <tr>\n",
       "      <th>min</th>\n",
       "      <td>2.000000</td>\n",
       "      <td>1.000000</td>\n",
       "      <td>1.000000</td>\n",
       "    </tr>\n",
       "    <tr>\n",
       "      <th>25%</th>\n",
       "      <td>36.000000</td>\n",
       "      <td>9.000000</td>\n",
       "      <td>1.000000</td>\n",
       "    </tr>\n",
       "    <tr>\n",
       "      <th>50%</th>\n",
       "      <td>60.000000</td>\n",
       "      <td>15.000000</td>\n",
       "      <td>1.000000</td>\n",
       "    </tr>\n",
       "    <tr>\n",
       "      <th>75%</th>\n",
       "      <td>117.000000</td>\n",
       "      <td>26.000000</td>\n",
       "      <td>2.000000</td>\n",
       "    </tr>\n",
       "    <tr>\n",
       "      <th>max</th>\n",
       "      <td>910.000000</td>\n",
       "      <td>220.000000</td>\n",
       "      <td>38.000000</td>\n",
       "    </tr>\n",
       "  </tbody>\n",
       "</table>\n",
       "</div>"
      ],
      "text/plain": [
       "       num_characters    num_words  num_sentences\n",
       "count     5169.000000  5169.000000    5169.000000\n",
       "mean        78.977945    18.455794       1.965564\n",
       "std         58.236293    13.324758       1.448541\n",
       "min          2.000000     1.000000       1.000000\n",
       "25%         36.000000     9.000000       1.000000\n",
       "50%         60.000000    15.000000       1.000000\n",
       "75%        117.000000    26.000000       2.000000\n",
       "max        910.000000   220.000000      38.000000"
      ]
     },
     "execution_count": 40,
     "metadata": {},
     "output_type": "execute_result"
    }
   ],
   "source": [
    "df[['num_characters','num_words','num_sentences']].describe()"
   ]
  },
  {
   "cell_type": "code",
   "execution_count": 41,
   "id": "3e0ad75b",
   "metadata": {
    "execution": {
     "iopub.execute_input": "2025-03-14T14:56:09.541328Z",
     "iopub.status.busy": "2025-03-14T14:56:09.540912Z",
     "iopub.status.idle": "2025-03-14T14:56:09.564225Z",
     "shell.execute_reply": "2025-03-14T14:56:09.562956Z"
    },
    "papermill": {
     "duration": 0.047573,
     "end_time": "2025-03-14T14:56:09.566187",
     "exception": false,
     "start_time": "2025-03-14T14:56:09.518614",
     "status": "completed"
    },
    "tags": []
   },
   "outputs": [
    {
     "data": {
      "text/html": [
       "<div>\n",
       "<style scoped>\n",
       "    .dataframe tbody tr th:only-of-type {\n",
       "        vertical-align: middle;\n",
       "    }\n",
       "\n",
       "    .dataframe tbody tr th {\n",
       "        vertical-align: top;\n",
       "    }\n",
       "\n",
       "    .dataframe thead th {\n",
       "        text-align: right;\n",
       "    }\n",
       "</style>\n",
       "<table border=\"1\" class=\"dataframe\">\n",
       "  <thead>\n",
       "    <tr style=\"text-align: right;\">\n",
       "      <th></th>\n",
       "      <th>num_characters</th>\n",
       "      <th>num_words</th>\n",
       "      <th>num_sentences</th>\n",
       "    </tr>\n",
       "  </thead>\n",
       "  <tbody>\n",
       "    <tr>\n",
       "      <th>count</th>\n",
       "      <td>4516.000000</td>\n",
       "      <td>4516.000000</td>\n",
       "      <td>4516.000000</td>\n",
       "    </tr>\n",
       "    <tr>\n",
       "      <th>mean</th>\n",
       "      <td>70.459256</td>\n",
       "      <td>17.123782</td>\n",
       "      <td>1.820195</td>\n",
       "    </tr>\n",
       "    <tr>\n",
       "      <th>std</th>\n",
       "      <td>56.358207</td>\n",
       "      <td>13.493970</td>\n",
       "      <td>1.383657</td>\n",
       "    </tr>\n",
       "    <tr>\n",
       "      <th>min</th>\n",
       "      <td>2.000000</td>\n",
       "      <td>1.000000</td>\n",
       "      <td>1.000000</td>\n",
       "    </tr>\n",
       "    <tr>\n",
       "      <th>25%</th>\n",
       "      <td>34.000000</td>\n",
       "      <td>8.000000</td>\n",
       "      <td>1.000000</td>\n",
       "    </tr>\n",
       "    <tr>\n",
       "      <th>50%</th>\n",
       "      <td>52.000000</td>\n",
       "      <td>13.000000</td>\n",
       "      <td>1.000000</td>\n",
       "    </tr>\n",
       "    <tr>\n",
       "      <th>75%</th>\n",
       "      <td>90.000000</td>\n",
       "      <td>22.000000</td>\n",
       "      <td>2.000000</td>\n",
       "    </tr>\n",
       "    <tr>\n",
       "      <th>max</th>\n",
       "      <td>910.000000</td>\n",
       "      <td>220.000000</td>\n",
       "      <td>38.000000</td>\n",
       "    </tr>\n",
       "  </tbody>\n",
       "</table>\n",
       "</div>"
      ],
      "text/plain": [
       "       num_characters    num_words  num_sentences\n",
       "count     4516.000000  4516.000000    4516.000000\n",
       "mean        70.459256    17.123782       1.820195\n",
       "std         56.358207    13.493970       1.383657\n",
       "min          2.000000     1.000000       1.000000\n",
       "25%         34.000000     8.000000       1.000000\n",
       "50%         52.000000    13.000000       1.000000\n",
       "75%         90.000000    22.000000       2.000000\n",
       "max        910.000000   220.000000      38.000000"
      ]
     },
     "execution_count": 41,
     "metadata": {},
     "output_type": "execute_result"
    }
   ],
   "source": [
    "df[df['target'] == 0][['num_characters','num_words','num_sentences']].describe()"
   ]
  },
  {
   "cell_type": "code",
   "execution_count": 42,
   "id": "62fda05c",
   "metadata": {
    "execution": {
     "iopub.execute_input": "2025-03-14T14:56:09.610853Z",
     "iopub.status.busy": "2025-03-14T14:56:09.610268Z",
     "iopub.status.idle": "2025-03-14T14:56:09.631810Z",
     "shell.execute_reply": "2025-03-14T14:56:09.630531Z"
    },
    "papermill": {
     "duration": 0.046246,
     "end_time": "2025-03-14T14:56:09.633997",
     "exception": false,
     "start_time": "2025-03-14T14:56:09.587751",
     "status": "completed"
    },
    "tags": []
   },
   "outputs": [
    {
     "data": {
      "text/html": [
       "<div>\n",
       "<style scoped>\n",
       "    .dataframe tbody tr th:only-of-type {\n",
       "        vertical-align: middle;\n",
       "    }\n",
       "\n",
       "    .dataframe tbody tr th {\n",
       "        vertical-align: top;\n",
       "    }\n",
       "\n",
       "    .dataframe thead th {\n",
       "        text-align: right;\n",
       "    }\n",
       "</style>\n",
       "<table border=\"1\" class=\"dataframe\">\n",
       "  <thead>\n",
       "    <tr style=\"text-align: right;\">\n",
       "      <th></th>\n",
       "      <th>num_characters</th>\n",
       "      <th>num_words</th>\n",
       "      <th>num_sentences</th>\n",
       "    </tr>\n",
       "  </thead>\n",
       "  <tbody>\n",
       "    <tr>\n",
       "      <th>count</th>\n",
       "      <td>653.000000</td>\n",
       "      <td>653.000000</td>\n",
       "      <td>653.000000</td>\n",
       "    </tr>\n",
       "    <tr>\n",
       "      <th>mean</th>\n",
       "      <td>137.891271</td>\n",
       "      <td>27.667688</td>\n",
       "      <td>2.970904</td>\n",
       "    </tr>\n",
       "    <tr>\n",
       "      <th>std</th>\n",
       "      <td>30.137753</td>\n",
       "      <td>7.008418</td>\n",
       "      <td>1.488425</td>\n",
       "    </tr>\n",
       "    <tr>\n",
       "      <th>min</th>\n",
       "      <td>13.000000</td>\n",
       "      <td>2.000000</td>\n",
       "      <td>1.000000</td>\n",
       "    </tr>\n",
       "    <tr>\n",
       "      <th>25%</th>\n",
       "      <td>132.000000</td>\n",
       "      <td>25.000000</td>\n",
       "      <td>2.000000</td>\n",
       "    </tr>\n",
       "    <tr>\n",
       "      <th>50%</th>\n",
       "      <td>149.000000</td>\n",
       "      <td>29.000000</td>\n",
       "      <td>3.000000</td>\n",
       "    </tr>\n",
       "    <tr>\n",
       "      <th>75%</th>\n",
       "      <td>157.000000</td>\n",
       "      <td>32.000000</td>\n",
       "      <td>4.000000</td>\n",
       "    </tr>\n",
       "    <tr>\n",
       "      <th>max</th>\n",
       "      <td>224.000000</td>\n",
       "      <td>46.000000</td>\n",
       "      <td>9.000000</td>\n",
       "    </tr>\n",
       "  </tbody>\n",
       "</table>\n",
       "</div>"
      ],
      "text/plain": [
       "       num_characters   num_words  num_sentences\n",
       "count      653.000000  653.000000     653.000000\n",
       "mean       137.891271   27.667688       2.970904\n",
       "std         30.137753    7.008418       1.488425\n",
       "min         13.000000    2.000000       1.000000\n",
       "25%        132.000000   25.000000       2.000000\n",
       "50%        149.000000   29.000000       3.000000\n",
       "75%        157.000000   32.000000       4.000000\n",
       "max        224.000000   46.000000       9.000000"
      ]
     },
     "execution_count": 42,
     "metadata": {},
     "output_type": "execute_result"
    }
   ],
   "source": [
    "df[df['target'] == 1][['num_characters','num_words','num_sentences']].describe()"
   ]
  },
  {
   "cell_type": "code",
   "execution_count": 43,
   "id": "2e1258f2",
   "metadata": {
    "execution": {
     "iopub.execute_input": "2025-03-14T14:56:09.680310Z",
     "iopub.status.busy": "2025-03-14T14:56:09.679611Z",
     "iopub.status.idle": "2025-03-14T14:56:10.480706Z",
     "shell.execute_reply": "2025-03-14T14:56:10.479439Z"
    },
    "papermill": {
     "duration": 0.826753,
     "end_time": "2025-03-14T14:56:10.482967",
     "exception": false,
     "start_time": "2025-03-14T14:56:09.656214",
     "status": "completed"
    },
    "tags": []
   },
   "outputs": [],
   "source": [
    "import seaborn as sns"
   ]
  },
  {
   "cell_type": "code",
   "execution_count": 44,
   "id": "2deaf3ab",
   "metadata": {
    "execution": {
     "iopub.execute_input": "2025-03-14T14:56:10.528981Z",
     "iopub.status.busy": "2025-03-14T14:56:10.528377Z",
     "iopub.status.idle": "2025-03-14T14:56:11.062739Z",
     "shell.execute_reply": "2025-03-14T14:56:11.061426Z"
    },
    "papermill": {
     "duration": 0.559346,
     "end_time": "2025-03-14T14:56:11.064780",
     "exception": false,
     "start_time": "2025-03-14T14:56:10.505434",
     "status": "completed"
    },
    "tags": []
   },
   "outputs": [
    {
     "data": {
      "text/plain": [
       "<Axes: xlabel='num_characters', ylabel='Count'>"
      ]
     },
     "execution_count": 44,
     "metadata": {},
     "output_type": "execute_result"
    },
    {
     "data": {
      "image/png": "[encoded data removed]",
      "text/plain": [
       "<Figure size 800x600 with 1 Axes>"
      ]
     },
     "metadata": {},
     "output_type": "display_data"
    }
   ],
   "source": [
    "plt.figure(figsize=(8,6))\n",
    "sns.histplot(df[df['target'] == 0]['num_characters'])\n",
    "sns.histplot(df[df['target'] == 1]['num_characters'],color='red')"
   ]
  },
  {
   "cell_type": "code",
   "execution_count": 45,
   "id": "9963b0f1",
   "metadata": {
    "execution": {
     "iopub.execute_input": "2025-03-14T14:56:11.110528Z",
     "iopub.status.busy": "2025-03-14T14:56:11.110137Z",
     "iopub.status.idle": "2025-03-14T14:56:11.594867Z",
     "shell.execute_reply": "2025-03-14T14:56:11.593590Z"
    },
    "papermill": {
     "duration": 0.509925,
     "end_time": "2025-03-14T14:56:11.597351",
     "exception": false,
     "start_time": "2025-03-14T14:56:11.087426",
     "status": "completed"
    },
    "tags": []
   },
   "outputs": [
    {
     "data": {
      "text/plain": [
       "<Axes: xlabel='num_words', ylabel='Count'>"
      ]
     },
     "execution_count": 45,
     "metadata": {},
     "output_type": "execute_result"
    },
    {
     "data": {
      "image/png": "[encoded data removed]",
      "text/plain": [
       "<Figure size 800x600 with 1 Axes>"
      ]
     },
     "metadata": {},
     "output_type": "display_data"
    }
   ],
   "source": [
    "plt.figure(figsize=(8,6))\n",
    "sns.histplot(df[df['target'] == 0]['num_words'])\n",
    "sns.histplot(df[df['target'] == 1]['num_words'],color='red')"
   ]
  },
  {
   "cell_type": "code",
   "execution_count": 46,
   "id": "2131732b",
   "metadata": {
    "execution": {
     "iopub.execute_input": "2025-03-14T14:56:11.645158Z",
     "iopub.status.busy": "2025-03-14T14:56:11.644648Z",
     "iopub.status.idle": "2025-03-14T14:56:17.720889Z",
     "shell.execute_reply": "2025-03-14T14:56:17.719453Z"
    },
    "papermill": {
     "duration": 6.103122,
     "end_time": "2025-03-14T14:56:17.724022",
     "exception": false,
     "start_time": "2025-03-14T14:56:11.620900",
     "status": "completed"
    },
    "tags": []
   },
   "outputs": [
    {
     "data": {
      "text/plain": [
       "<seaborn.axisgrid.PairGrid at 0x24d8e578770>"
      ]
     },
     "execution_count": 46,
     "metadata": {},
     "output_type": "execute_result"
    },
    {
     "data": {
      "image/png": "[encoded data removed]",
      "text/plain": [
       "<Figure size 808.875x750 with 12 Axes>"
      ]
     },
     "metadata": {},
     "output_type": "display_data"
    }
   ],
   "source": [
    "sns.pairplot(df,hue='target')"
   ]
  },
  {
   "cell_type": "code",
   "execution_count": 47,
   "id": "40f305d5",
   "metadata": {
    "execution": {
     "iopub.execute_input": "2025-03-14T14:56:17.777033Z",
     "iopub.status.busy": "2025-03-14T14:56:17.776527Z",
     "iopub.status.idle": "2025-03-14T14:56:18.088075Z",
     "shell.execute_reply": "2025-03-14T14:56:18.086783Z"
    },
    "papermill": {
     "duration": 0.340276,
     "end_time": "2025-03-14T14:56:18.090090",
     "exception": false,
     "start_time": "2025-03-14T14:56:17.749814",
     "status": "completed"
    },
    "tags": []
   },
   "outputs": [
    {
     "data": {
      "text/plain": [
       "<Axes: >"
      ]
     },
     "execution_count": 47,
     "metadata": {},
     "output_type": "execute_result"
    },
    {
     "data": {
      "image/png": "[encoded data removed]",
      "text/plain": [
       "<Figure size 640x480 with 2 Axes>"
      ]
     },
     "metadata": {},
     "output_type": "display_data"
    }
   ],
   "source": [
    "numeric_df = df.drop(['text'], axis=1)\n",
    "sns.heatmap(numeric_df.corr(), annot=True)"
   ]
  },
  {
   "cell_type": "code",
   "execution_count": 48,
   "id": "7887b770",
   "metadata": {
    "execution": {
     "iopub.execute_input": "2025-03-14T14:56:18.144587Z",
     "iopub.status.busy": "2025-03-14T14:56:18.144172Z",
     "iopub.status.idle": "2025-03-14T14:56:18.155685Z",
     "shell.execute_reply": "2025-03-14T14:56:18.154686Z"
    },
    "papermill": {
     "duration": 0.040937,
     "end_time": "2025-03-14T14:56:18.157488",
     "exception": false,
     "start_time": "2025-03-14T14:56:18.116551",
     "status": "completed"
    },
    "tags": []
   },
   "outputs": [
    {
     "data": {
      "text/html": [
       "<div>\n",
       "<style scoped>\n",
       "    .dataframe tbody tr th:only-of-type {\n",
       "        vertical-align: middle;\n",
       "    }\n",
       "\n",
       "    .dataframe tbody tr th {\n",
       "        vertical-align: top;\n",
       "    }\n",
       "\n",
       "    .dataframe thead th {\n",
       "        text-align: right;\n",
       "    }\n",
       "</style>\n",
       "<table border=\"1\" class=\"dataframe\">\n",
       "  <thead>\n",
       "    <tr style=\"text-align: right;\">\n",
       "      <th></th>\n",
       "      <th>target</th>\n",
       "      <th>text</th>\n",
       "      <th>num_characters</th>\n",
       "      <th>num_words</th>\n",
       "      <th>num_sentences</th>\n",
       "    </tr>\n",
       "  </thead>\n",
       "  <tbody>\n",
       "    <tr>\n",
       "      <th>4676</th>\n",
       "      <td>0</td>\n",
       "      <td>Wewa is 130. Iriver 255. All 128 mb.</td>\n",
       "      <td>36</td>\n",
       "      <td>11</td>\n",
       "      <td>3</td>\n",
       "    </tr>\n",
       "    <tr>\n",
       "      <th>4420</th>\n",
       "      <td>0</td>\n",
       "      <td>Still at west coast... Haiz... ÌÏ'll take fore...</td>\n",
       "      <td>65</td>\n",
       "      <td>15</td>\n",
       "      <td>1</td>\n",
       "    </tr>\n",
       "    <tr>\n",
       "      <th>1512</th>\n",
       "      <td>0</td>\n",
       "      <td>Hey sweet, I was wondering when you had a mome...</td>\n",
       "      <td>458</td>\n",
       "      <td>102</td>\n",
       "      <td>6</td>\n",
       "    </tr>\n",
       "    <tr>\n",
       "      <th>689</th>\n",
       "      <td>1</td>\n",
       "      <td>&lt;Forwarded from 448712404000&gt;Please CALL 08712...</td>\n",
       "      <td>111</td>\n",
       "      <td>19</td>\n",
       "      <td>1</td>\n",
       "    </tr>\n",
       "    <tr>\n",
       "      <th>3050</th>\n",
       "      <td>0</td>\n",
       "      <td>Awesome question with a cute answer: Someone a...</td>\n",
       "      <td>135</td>\n",
       "      <td>39</td>\n",
       "      <td>5</td>\n",
       "    </tr>\n",
       "  </tbody>\n",
       "</table>\n",
       "</div>"
      ],
      "text/plain": [
       "      target                                               text  \\\n",
       "4676       0               Wewa is 130. Iriver 255. All 128 mb.   \n",
       "4420       0  Still at west coast... Haiz... ÌÏ'll take fore...   \n",
       "1512       0  Hey sweet, I was wondering when you had a mome...   \n",
       "689        1  <Forwarded from 448712404000>Please CALL 08712...   \n",
       "3050       0  Awesome question with a cute answer: Someone a...   \n",
       "\n",
       "      num_characters  num_words  num_sentences  \n",
       "4676              36         11              3  \n",
       "4420              65         15              1  \n",
       "1512             458        102              6  \n",
       "689              111         19              1  \n",
       "3050             135         39              5  "
      ]
     },
     "execution_count": 48,
     "metadata": {},
     "output_type": "execute_result"
    }
   ],
   "source": [
    "df.sample(5)"
   ]
  },
  {
   "cell_type": "markdown",
   "id": "8411a043",
   "metadata": {
    "papermill": {
     "duration": 0.026202,
     "end_time": "2025-03-14T14:56:18.211403",
     "exception": false,
     "start_time": "2025-03-14T14:56:18.185201",
     "status": "completed"
    },
    "tags": []
   },
   "source": [
    "## data preprocessing"
   ]
  },
  {
   "cell_type": "markdown",
   "id": "fef0239e",
   "metadata": {
    "papermill": {
     "duration": 0.028546,
     "end_time": "2025-03-14T14:56:18.266458",
     "exception": false,
     "start_time": "2025-03-14T14:56:18.237912",
     "status": "completed"
    },
    "tags": []
   },
   "source": [
    "lower case\n",
    "tokenization\n",
    "remove stop words,punctuation\n",
    "remove special characters\n",
    "stemming"
   ]
  },
  {
   "cell_type": "code",
   "execution_count": 49,
   "id": "4b6ac189",
   "metadata": {
    "execution": {
     "iopub.execute_input": "2025-03-14T14:56:18.322488Z",
     "iopub.status.busy": "2025-03-14T14:56:18.322015Z",
     "iopub.status.idle": "2025-03-14T14:56:50.340834Z",
     "shell.execute_reply": "2025-03-14T14:56:50.338883Z"
    },
    "papermill": {
     "duration": 32.07749,
     "end_time": "2025-03-14T14:56:50.371227",
     "exception": false,
     "start_time": "2025-03-14T14:56:18.293737",
     "status": "completed"
    },
    "tags": []
   },
   "outputs": [
    {
     "name": "stderr",
     "output_type": "stream",
     "text": [
      "[nltk_data] Downloading package stopwords to\n",
      "[nltk_data]     C:\\Users\\arpan\\AppData\\Roaming\\nltk_data...\n",
      "[nltk_data]   Package stopwords is already up-to-date!\n"
     ]
    }
   ],
   "source": [
    "nltk.download('stopwords')\n",
    "import string\n",
    "from nltk.corpus import stopwords\n",
    "from nltk.stem.porter import PorterStemmer\n",
    "ps=PorterStemmer()"
   ]
  },
  {
   "cell_type": "code",
   "execution_count": 50,
   "id": "7b19b898",
   "metadata": {
    "execution": {
     "iopub.execute_input": "2025-03-14T14:56:50.428339Z",
     "iopub.status.busy": "2025-03-14T14:56:50.428001Z",
     "iopub.status.idle": "2025-03-14T14:56:50.435019Z",
     "shell.execute_reply": "2025-03-14T14:56:50.433636Z"
    },
    "papermill": {
     "duration": 0.038118,
     "end_time": "2025-03-14T14:56:50.437151",
     "exception": false,
     "start_time": "2025-03-14T14:56:50.399033",
     "status": "completed"
    },
    "tags": []
   },
   "outputs": [],
   "source": [
    "def transform_text(text):\n",
    "    text=text.lower()\n",
    "    text=nltk.word_tokenize(text)\n",
    "\n",
    "    y=[]\n",
    "    for i in text:\n",
    "        if i.isalnum():\n",
    "             y.append(i)\n",
    "    text=y[:]\n",
    "    y.clear()\n",
    "\n",
    "    for i in text:\n",
    "        if i not in stopwords.words('english') and i not in string.punctuation:\n",
    "            y.append(i)\n",
    "\n",
    "    text=y[:]\n",
    "    y.clear()\n",
    "\n",
    "    for i in text:\n",
    "        y.append(ps.stem(i))\n",
    "            \n",
    "        \n",
    "    return \" \".join(y)"
   ]
  },
  {
   "cell_type": "code",
   "execution_count": 51,
   "id": "d3389756",
   "metadata": {
    "execution": {
     "iopub.execute_input": "2025-03-14T14:56:50.492627Z",
     "iopub.status.busy": "2025-03-14T14:56:50.492229Z",
     "iopub.status.idle": "2025-03-14T14:56:50.506402Z",
     "shell.execute_reply": "2025-03-14T14:56:50.505189Z"
    },
    "papermill": {
     "duration": 0.044504,
     "end_time": "2025-03-14T14:56:50.508608",
     "exception": false,
     "start_time": "2025-03-14T14:56:50.464104",
     "status": "completed"
    },
    "tags": []
   },
   "outputs": [
    {
     "data": {
      "text/plain": [
       "'hello nitish come bhopal explor'"
      ]
     },
     "execution_count": 51,
     "metadata": {},
     "output_type": "execute_result"
    }
   ],
   "source": [
    "transform_text('HELLO NITISH HOW ARE YOU ARE YOU COMING FOR BHOPAL EXPLORATION??')"
   ]
  },
  {
   "cell_type": "code",
   "execution_count": 52,
   "id": "cbbda426",
   "metadata": {
    "execution": {
     "iopub.execute_input": "2025-03-14T14:56:50.570271Z",
     "iopub.status.busy": "2025-03-14T14:56:50.569784Z",
     "iopub.status.idle": "2025-03-14T14:56:50.575040Z",
     "shell.execute_reply": "2025-03-14T14:56:50.573679Z"
    },
    "papermill": {
     "duration": 0.037066,
     "end_time": "2025-03-14T14:56:50.577069",
     "exception": false,
     "start_time": "2025-03-14T14:56:50.540003",
     "status": "completed"
    },
    "tags": []
   },
   "outputs": [],
   "source": [
    "from nltk.stem.porter import PorterStemmer"
   ]
  },
  {
   "cell_type": "code",
   "execution_count": 53,
   "id": "6394c395",
   "metadata": {
    "execution": {
     "iopub.execute_input": "2025-03-14T14:56:50.636437Z",
     "iopub.status.busy": "2025-03-14T14:56:50.635972Z",
     "iopub.status.idle": "2025-03-14T14:56:50.643219Z",
     "shell.execute_reply": "2025-03-14T14:56:50.642022Z"
    },
    "papermill": {
     "duration": 0.038096,
     "end_time": "2025-03-14T14:56:50.645244",
     "exception": false,
     "start_time": "2025-03-14T14:56:50.607148",
     "status": "completed"
    },
    "tags": []
   },
   "outputs": [
    {
     "data": {
      "text/plain": [
       "'danc'"
      ]
     },
     "execution_count": 53,
     "metadata": {},
     "output_type": "execute_result"
    }
   ],
   "source": [
    "ps=PorterStemmer()\n",
    "ps.stem('dancing')"
   ]
  },
  {
   "cell_type": "code",
   "execution_count": 54,
   "id": "315e54d2",
   "metadata": {
    "execution": {
     "iopub.execute_input": "2025-03-14T14:56:50.701431Z",
     "iopub.status.busy": "2025-03-14T14:56:50.700997Z",
     "iopub.status.idle": "2025-03-14T14:56:50.713063Z",
     "shell.execute_reply": "2025-03-14T14:56:50.711965Z"
    },
    "papermill": {
     "duration": 0.041821,
     "end_time": "2025-03-14T14:56:50.714751",
     "exception": false,
     "start_time": "2025-03-14T14:56:50.672930",
     "status": "completed"
    },
    "tags": []
   },
   "outputs": [
    {
     "data": {
      "text/html": [
       "<div>\n",
       "<style scoped>\n",
       "    .dataframe tbody tr th:only-of-type {\n",
       "        vertical-align: middle;\n",
       "    }\n",
       "\n",
       "    .dataframe tbody tr th {\n",
       "        vertical-align: top;\n",
       "    }\n",
       "\n",
       "    .dataframe thead th {\n",
       "        text-align: right;\n",
       "    }\n",
       "</style>\n",
       "<table border=\"1\" class=\"dataframe\">\n",
       "  <thead>\n",
       "    <tr style=\"text-align: right;\">\n",
       "      <th></th>\n",
       "      <th>target</th>\n",
       "      <th>text</th>\n",
       "      <th>num_characters</th>\n",
       "      <th>num_words</th>\n",
       "      <th>num_sentences</th>\n",
       "    </tr>\n",
       "  </thead>\n",
       "  <tbody>\n",
       "    <tr>\n",
       "      <th>0</th>\n",
       "      <td>0</td>\n",
       "      <td>Go until jurong point, crazy.. Available only ...</td>\n",
       "      <td>111</td>\n",
       "      <td>24</td>\n",
       "      <td>2</td>\n",
       "    </tr>\n",
       "    <tr>\n",
       "      <th>1</th>\n",
       "      <td>0</td>\n",
       "      <td>Ok lar... Joking wif u oni...</td>\n",
       "      <td>29</td>\n",
       "      <td>8</td>\n",
       "      <td>2</td>\n",
       "    </tr>\n",
       "    <tr>\n",
       "      <th>2</th>\n",
       "      <td>1</td>\n",
       "      <td>Free entry in 2 a wkly comp to win FA Cup fina...</td>\n",
       "      <td>155</td>\n",
       "      <td>37</td>\n",
       "      <td>2</td>\n",
       "    </tr>\n",
       "    <tr>\n",
       "      <th>3</th>\n",
       "      <td>0</td>\n",
       "      <td>U dun say so early hor... U c already then say...</td>\n",
       "      <td>49</td>\n",
       "      <td>13</td>\n",
       "      <td>1</td>\n",
       "    </tr>\n",
       "    <tr>\n",
       "      <th>4</th>\n",
       "      <td>0</td>\n",
       "      <td>Nah I don't think he goes to usf, he lives aro...</td>\n",
       "      <td>61</td>\n",
       "      <td>15</td>\n",
       "      <td>1</td>\n",
       "    </tr>\n",
       "  </tbody>\n",
       "</table>\n",
       "</div>"
      ],
      "text/plain": [
       "   target                                               text  num_characters  \\\n",
       "0       0  Go until jurong point, crazy.. Available only ...             111   \n",
       "1       0                      Ok lar... Joking wif u oni...              29   \n",
       "2       1  Free entry in 2 a wkly comp to win FA Cup fina...             155   \n",
       "3       0  U dun say so early hor... U c already then say...              49   \n",
       "4       0  Nah I don't think he goes to usf, he lives aro...              61   \n",
       "\n",
       "   num_words  num_sentences  \n",
       "0         24              2  \n",
       "1          8              2  \n",
       "2         37              2  \n",
       "3         13              1  \n",
       "4         15              1  "
      ]
     },
     "execution_count": 54,
     "metadata": {},
     "output_type": "execute_result"
    }
   ],
   "source": [
    "df.head()"
   ]
  },
  {
   "cell_type": "code",
   "execution_count": 55,
   "id": "3553eb47",
   "metadata": {
    "execution": {
     "iopub.execute_input": "2025-03-14T14:56:50.773860Z",
     "iopub.status.busy": "2025-03-14T14:56:50.773370Z",
     "iopub.status.idle": "2025-03-14T14:57:02.903755Z",
     "shell.execute_reply": "2025-03-14T14:57:02.902488Z"
    },
    "papermill": {
     "duration": 12.162992,
     "end_time": "2025-03-14T14:57:02.905738",
     "exception": false,
     "start_time": "2025-03-14T14:56:50.742746",
     "status": "completed"
    },
    "tags": []
   },
   "outputs": [
    {
     "name": "stderr",
     "output_type": "stream",
     "text": [
      "C:\\Users\\arpan\\AppData\\Local\\Temp\\ipykernel_22992\\4139466366.py:1: SettingWithCopyWarning: \n",
      "A value is trying to be set on a copy of a slice from a DataFrame.\n",
      "Try using .loc[row_indexer,col_indexer] = value instead\n",
      "\n",
      "See the caveats in the documentation: https://pandas.pydata.org/pandas-docs/stable/user_guide/indexing.html#returning-a-view-versus-a-copy\n",
      "  df['transformed_text']=df['text'].apply(transform_text)\n"
     ]
    }
   ],
   "source": [
    "df['transformed_text']=df['text'].apply(transform_text)"
   ]
  },
  {
   "cell_type": "code",
   "execution_count": 56,
   "id": "c99d601f",
   "metadata": {
    "execution": {
     "iopub.execute_input": "2025-03-14T14:57:02.962864Z",
     "iopub.status.busy": "2025-03-14T14:57:02.962431Z",
     "iopub.status.idle": "2025-03-14T14:57:02.974179Z",
     "shell.execute_reply": "2025-03-14T14:57:02.972831Z"
    },
    "papermill": {
     "duration": 0.042019,
     "end_time": "2025-03-14T14:57:02.976172",
     "exception": false,
     "start_time": "2025-03-14T14:57:02.934153",
     "status": "completed"
    },
    "tags": []
   },
   "outputs": [
    {
     "data": {
      "text/html": [
       "<div>\n",
       "<style scoped>\n",
       "    .dataframe tbody tr th:only-of-type {\n",
       "        vertical-align: middle;\n",
       "    }\n",
       "\n",
       "    .dataframe tbody tr th {\n",
       "        vertical-align: top;\n",
       "    }\n",
       "\n",
       "    .dataframe thead th {\n",
       "        text-align: right;\n",
       "    }\n",
       "</style>\n",
       "<table border=\"1\" class=\"dataframe\">\n",
       "  <thead>\n",
       "    <tr style=\"text-align: right;\">\n",
       "      <th></th>\n",
       "      <th>target</th>\n",
       "      <th>text</th>\n",
       "      <th>num_characters</th>\n",
       "      <th>num_words</th>\n",
       "      <th>num_sentences</th>\n",
       "      <th>transformed_text</th>\n",
       "    </tr>\n",
       "  </thead>\n",
       "  <tbody>\n",
       "    <tr>\n",
       "      <th>0</th>\n",
       "      <td>0</td>\n",
       "      <td>Go until jurong point, crazy.. Available only ...</td>\n",
       "      <td>111</td>\n",
       "      <td>24</td>\n",
       "      <td>2</td>\n",
       "      <td>go jurong point crazi avail bugi n great world...</td>\n",
       "    </tr>\n",
       "    <tr>\n",
       "      <th>1</th>\n",
       "      <td>0</td>\n",
       "      <td>Ok lar... Joking wif u oni...</td>\n",
       "      <td>29</td>\n",
       "      <td>8</td>\n",
       "      <td>2</td>\n",
       "      <td>ok lar joke wif u oni</td>\n",
       "    </tr>\n",
       "    <tr>\n",
       "      <th>2</th>\n",
       "      <td>1</td>\n",
       "      <td>Free entry in 2 a wkly comp to win FA Cup fina...</td>\n",
       "      <td>155</td>\n",
       "      <td>37</td>\n",
       "      <td>2</td>\n",
       "      <td>free entri 2 wkli comp win fa cup final tkt 21...</td>\n",
       "    </tr>\n",
       "    <tr>\n",
       "      <th>3</th>\n",
       "      <td>0</td>\n",
       "      <td>U dun say so early hor... U c already then say...</td>\n",
       "      <td>49</td>\n",
       "      <td>13</td>\n",
       "      <td>1</td>\n",
       "      <td>u dun say earli hor u c alreadi say</td>\n",
       "    </tr>\n",
       "    <tr>\n",
       "      <th>4</th>\n",
       "      <td>0</td>\n",
       "      <td>Nah I don't think he goes to usf, he lives aro...</td>\n",
       "      <td>61</td>\n",
       "      <td>15</td>\n",
       "      <td>1</td>\n",
       "      <td>nah think goe usf live around though</td>\n",
       "    </tr>\n",
       "  </tbody>\n",
       "</table>\n",
       "</div>"
      ],
      "text/plain": [
       "   target                                               text  num_characters  \\\n",
       "0       0  Go until jurong point, crazy.. Available only ...             111   \n",
       "1       0                      Ok lar... Joking wif u oni...              29   \n",
       "2       1  Free entry in 2 a wkly comp to win FA Cup fina...             155   \n",
       "3       0  U dun say so early hor... U c already then say...              49   \n",
       "4       0  Nah I don't think he goes to usf, he lives aro...              61   \n",
       "\n",
       "   num_words  num_sentences                                   transformed_text  \n",
       "0         24              2  go jurong point crazi avail bugi n great world...  \n",
       "1          8              2                              ok lar joke wif u oni  \n",
       "2         37              2  free entri 2 wkli comp win fa cup final tkt 21...  \n",
       "3         13              1                u dun say earli hor u c alreadi say  \n",
       "4         15              1               nah think goe usf live around though  "
      ]
     },
     "execution_count": 56,
     "metadata": {},
     "output_type": "execute_result"
    }
   ],
   "source": [
    "df.head()"
   ]
  },
  {
   "cell_type": "code",
   "execution_count": 57,
   "id": "c77cd5cd",
   "metadata": {
    "execution": {
     "iopub.execute_input": "2025-03-14T14:57:03.034765Z",
     "iopub.status.busy": "2025-03-14T14:57:03.034264Z",
     "iopub.status.idle": "2025-03-14T14:57:03.136751Z",
     "shell.execute_reply": "2025-03-14T14:57:03.135209Z"
    },
    "papermill": {
     "duration": 0.134599,
     "end_time": "2025-03-14T14:57:03.139230",
     "exception": false,
     "start_time": "2025-03-14T14:57:03.004631",
     "status": "completed"
    },
    "tags": []
   },
   "outputs": [],
   "source": [
    "from wordcloud import WordCloud"
   ]
  },
  {
   "cell_type": "code",
   "execution_count": 58,
   "id": "19615ca4",
   "metadata": {
    "execution": {
     "iopub.execute_input": "2025-03-14T14:57:03.197583Z",
     "iopub.status.busy": "2025-03-14T14:57:03.196911Z",
     "iopub.status.idle": "2025-03-14T14:57:03.832238Z",
     "shell.execute_reply": "2025-03-14T14:57:03.830991Z"
    },
    "papermill": {
     "duration": 0.666559,
     "end_time": "2025-03-14T14:57:03.834476",
     "exception": false,
     "start_time": "2025-03-14T14:57:03.167917",
     "status": "completed"
    },
    "tags": []
   },
   "outputs": [],
   "source": [
    "wc=WordCloud(width=500,height=500,min_font_size=10,background_color='white')\n",
    "spam_wc=wc.generate(df[df['target']==1]['transformed_text'].str.cat(sep=\" \"))"
   ]
  },
  {
   "cell_type": "code",
   "execution_count": 59,
   "id": "5ef6519c",
   "metadata": {
    "execution": {
     "iopub.execute_input": "2025-03-14T14:57:03.894222Z",
     "iopub.status.busy": "2025-03-14T14:57:03.893630Z",
     "iopub.status.idle": "2025-03-14T14:57:04.283745Z",
     "shell.execute_reply": "2025-03-14T14:57:04.282224Z"
    },
    "papermill": {
     "duration": 0.425312,
     "end_time": "2025-03-14T14:57:04.288025",
     "exception": false,
     "start_time": "2025-03-14T14:57:03.862713",
     "status": "completed"
    },
    "tags": []
   },
   "outputs": [
    {
     "data": {
      "text/plain": [
       "<matplotlib.image.AxesImage at 0x24d924f5cd0>"
      ]
     },
     "execution_count": 59,
     "metadata": {},
     "output_type": "execute_result"
    },
    {
     "data": {
      "image/png": "[encoded data removed]",
      "text/plain": [
       "<Figure size 1500x600 with 1 Axes>"
      ]
     },
     "metadata": {},
     "output_type": "display_data"
    }
   ],
   "source": [
    "plt.figure(figsize=(15,6))\n",
    "plt.imshow(spam_wc)"
   ]
  },
  {
   "cell_type": "code",
   "execution_count": 60,
   "id": "cf937f12",
   "metadata": {
    "execution": {
     "iopub.execute_input": "2025-03-14T14:57:04.354729Z",
     "iopub.status.busy": "2025-03-14T14:57:04.354252Z",
     "iopub.status.idle": "2025-03-14T14:57:04.367015Z",
     "shell.execute_reply": "2025-03-14T14:57:04.365408Z"
    },
    "papermill": {
     "duration": 0.048785,
     "end_time": "2025-03-14T14:57:04.369163",
     "exception": false,
     "start_time": "2025-03-14T14:57:04.320378",
     "status": "completed"
    },
    "tags": []
   },
   "outputs": [
    {
     "data": {
      "text/html": [
       "<div>\n",
       "<style scoped>\n",
       "    .dataframe tbody tr th:only-of-type {\n",
       "        vertical-align: middle;\n",
       "    }\n",
       "\n",
       "    .dataframe tbody tr th {\n",
       "        vertical-align: top;\n",
       "    }\n",
       "\n",
       "    .dataframe thead th {\n",
       "        text-align: right;\n",
       "    }\n",
       "</style>\n",
       "<table border=\"1\" class=\"dataframe\">\n",
       "  <thead>\n",
       "    <tr style=\"text-align: right;\">\n",
       "      <th></th>\n",
       "      <th>target</th>\n",
       "      <th>text</th>\n",
       "      <th>num_characters</th>\n",
       "      <th>num_words</th>\n",
       "      <th>num_sentences</th>\n",
       "      <th>transformed_text</th>\n",
       "    </tr>\n",
       "  </thead>\n",
       "  <tbody>\n",
       "    <tr>\n",
       "      <th>0</th>\n",
       "      <td>0</td>\n",
       "      <td>Go until jurong point, crazy.. Available only ...</td>\n",
       "      <td>111</td>\n",
       "      <td>24</td>\n",
       "      <td>2</td>\n",
       "      <td>go jurong point crazi avail bugi n great world...</td>\n",
       "    </tr>\n",
       "    <tr>\n",
       "      <th>1</th>\n",
       "      <td>0</td>\n",
       "      <td>Ok lar... Joking wif u oni...</td>\n",
       "      <td>29</td>\n",
       "      <td>8</td>\n",
       "      <td>2</td>\n",
       "      <td>ok lar joke wif u oni</td>\n",
       "    </tr>\n",
       "    <tr>\n",
       "      <th>2</th>\n",
       "      <td>1</td>\n",
       "      <td>Free entry in 2 a wkly comp to win FA Cup fina...</td>\n",
       "      <td>155</td>\n",
       "      <td>37</td>\n",
       "      <td>2</td>\n",
       "      <td>free entri 2 wkli comp win fa cup final tkt 21...</td>\n",
       "    </tr>\n",
       "    <tr>\n",
       "      <th>3</th>\n",
       "      <td>0</td>\n",
       "      <td>U dun say so early hor... U c already then say...</td>\n",
       "      <td>49</td>\n",
       "      <td>13</td>\n",
       "      <td>1</td>\n",
       "      <td>u dun say earli hor u c alreadi say</td>\n",
       "    </tr>\n",
       "    <tr>\n",
       "      <th>4</th>\n",
       "      <td>0</td>\n",
       "      <td>Nah I don't think he goes to usf, he lives aro...</td>\n",
       "      <td>61</td>\n",
       "      <td>15</td>\n",
       "      <td>1</td>\n",
       "      <td>nah think goe usf live around though</td>\n",
       "    </tr>\n",
       "  </tbody>\n",
       "</table>\n",
       "</div>"
      ],
      "text/plain": [
       "   target                                               text  num_characters  \\\n",
       "0       0  Go until jurong point, crazy.. Available only ...             111   \n",
       "1       0                      Ok lar... Joking wif u oni...              29   \n",
       "2       1  Free entry in 2 a wkly comp to win FA Cup fina...             155   \n",
       "3       0  U dun say so early hor... U c already then say...              49   \n",
       "4       0  Nah I don't think he goes to usf, he lives aro...              61   \n",
       "\n",
       "   num_words  num_sentences                                   transformed_text  \n",
       "0         24              2  go jurong point crazi avail bugi n great world...  \n",
       "1          8              2                              ok lar joke wif u oni  \n",
       "2         37              2  free entri 2 wkli comp win fa cup final tkt 21...  \n",
       "3         13              1                u dun say earli hor u c alreadi say  \n",
       "4         15              1               nah think goe usf live around though  "
      ]
     },
     "execution_count": 60,
     "metadata": {},
     "output_type": "execute_result"
    }
   ],
   "source": [
    "df.head()\n"
   ]
  },
  {
   "cell_type": "code",
   "execution_count": 61,
   "id": "49cf8eeb",
   "metadata": {
    "execution": {
     "iopub.execute_input": "2025-03-14T14:57:04.437404Z",
     "iopub.status.busy": "2025-03-14T14:57:04.436943Z",
     "iopub.status.idle": "2025-03-14T14:57:04.446328Z",
     "shell.execute_reply": "2025-03-14T14:57:04.445258Z"
    },
    "papermill": {
     "duration": 0.044995,
     "end_time": "2025-03-14T14:57:04.448602",
     "exception": false,
     "start_time": "2025-03-14T14:57:04.403607",
     "status": "completed"
    },
    "tags": []
   },
   "outputs": [],
   "source": [
    "spam_corpus=[]\n",
    "for msg in df[df['target']==1]['transformed_text']:\n",
    "    for word in msg.split():\n",
    "        spam_corpus.append(word)\n",
    "    \n",
    "    "
   ]
  },
  {
   "cell_type": "code",
   "execution_count": 62,
   "id": "abe75a46",
   "metadata": {
    "execution": {
     "iopub.execute_input": "2025-03-14T14:57:04.519887Z",
     "iopub.status.busy": "2025-03-14T14:57:04.519384Z",
     "iopub.status.idle": "2025-03-14T14:57:04.526887Z",
     "shell.execute_reply": "2025-03-14T14:57:04.525593Z"
    },
    "papermill": {
     "duration": 0.04459,
     "end_time": "2025-03-14T14:57:04.528876",
     "exception": false,
     "start_time": "2025-03-14T14:57:04.484286",
     "status": "completed"
    },
    "tags": []
   },
   "outputs": [
    {
     "data": {
      "text/plain": [
       "9939"
      ]
     },
     "execution_count": 62,
     "metadata": {},
     "output_type": "execute_result"
    }
   ],
   "source": [
    "len(spam_corpus)"
   ]
  },
  {
   "cell_type": "code",
   "execution_count": 63,
   "id": "9d8ca836",
   "metadata": {
    "execution": {
     "iopub.execute_input": "2025-03-14T14:57:04.603304Z",
     "iopub.status.busy": "2025-03-14T14:57:04.602332Z",
     "iopub.status.idle": "2025-03-14T14:57:04.611357Z",
     "shell.execute_reply": "2025-03-14T14:57:04.609687Z"
    },
    "papermill": {
     "duration": 0.050327,
     "end_time": "2025-03-14T14:57:04.613430",
     "exception": false,
     "start_time": "2025-03-14T14:57:04.563103",
     "status": "completed"
    },
    "tags": []
   },
   "outputs": [],
   "source": [
    "from collections import Counter\n",
    "counter_spam_corpus=pd.DataFrame(Counter(spam_corpus).most_common(30))\n"
   ]
  },
  {
   "cell_type": "code",
   "execution_count": 64,
   "id": "9fc4bf1b",
   "metadata": {
    "execution": {
     "iopub.execute_input": "2025-03-14T14:57:04.687301Z",
     "iopub.status.busy": "2025-03-14T14:57:04.686888Z",
     "iopub.status.idle": "2025-03-14T14:57:05.046997Z",
     "shell.execute_reply": "2025-03-14T14:57:05.045760Z"
    },
    "papermill": {
     "duration": 0.398635,
     "end_time": "2025-03-14T14:57:05.048998",
     "exception": false,
     "start_time": "2025-03-14T14:57:04.650363",
     "status": "completed"
    },
    "tags": []
   },
   "outputs": [
    {
     "data": {
      "image/png": "[encoded data removed]",
      "text/plain": [
       "<Figure size 640x480 with 1 Axes>"
      ]
     },
     "metadata": {},
     "output_type": "display_data"
    }
   ],
   "source": [
    "sns.barplot(x=0,y=1,data=counter_spam_corpus)\n",
    "plt.xticks(rotation='vertical')\n",
    "plt.show()"
   ]
  },
  {
   "cell_type": "code",
   "execution_count": 65,
   "id": "b405d77a",
   "metadata": {
    "execution": {
     "iopub.execute_input": "2025-03-14T14:57:05.118462Z",
     "iopub.status.busy": "2025-03-14T14:57:05.118033Z",
     "iopub.status.idle": "2025-03-14T14:57:05.134875Z",
     "shell.execute_reply": "2025-03-14T14:57:05.133679Z"
    },
    "papermill": {
     "duration": 0.054563,
     "end_time": "2025-03-14T14:57:05.137010",
     "exception": false,
     "start_time": "2025-03-14T14:57:05.082447",
     "status": "completed"
    },
    "tags": []
   },
   "outputs": [],
   "source": [
    "ham_corpus=[]\n",
    "for msg in df[df['target']==0]['transformed_text']:\n",
    "    for word in msg.split():\n",
    "        ham_corpus.append(word)"
   ]
  },
  {
   "cell_type": "code",
   "execution_count": 66,
   "id": "378f2215",
   "metadata": {
    "execution": {
     "iopub.execute_input": "2025-03-14T14:57:05.205809Z",
     "iopub.status.busy": "2025-03-14T14:57:05.205320Z",
     "iopub.status.idle": "2025-03-14T14:57:05.212010Z",
     "shell.execute_reply": "2025-03-14T14:57:05.210791Z"
    },
    "papermill": {
     "duration": 0.044143,
     "end_time": "2025-03-14T14:57:05.214429",
     "exception": false,
     "start_time": "2025-03-14T14:57:05.170286",
     "status": "completed"
    },
    "tags": []
   },
   "outputs": [
    {
     "data": {
      "text/plain": [
       "9939"
      ]
     },
     "execution_count": 66,
     "metadata": {},
     "output_type": "execute_result"
    }
   ],
   "source": [
    "len(spam_corpus)"
   ]
  },
  {
   "cell_type": "code",
   "execution_count": 67,
   "id": "334b5454",
   "metadata": {
    "execution": {
     "iopub.execute_input": "2025-03-14T14:57:05.285420Z",
     "iopub.status.busy": "2025-03-14T14:57:05.284775Z",
     "iopub.status.idle": "2025-03-14T14:57:05.666146Z",
     "shell.execute_reply": "2025-03-14T14:57:05.664821Z"
    },
    "papermill": {
     "duration": 0.418748,
     "end_time": "2025-03-14T14:57:05.668193",
     "exception": false,
     "start_time": "2025-03-14T14:57:05.249445",
     "status": "completed"
    },
    "tags": []
   },
   "outputs": [
    {
     "data": {
      "image/png": "[encoded data removed]",
      "text/plain": [
       "<Figure size 640x480 with 1 Axes>"
      ]
     },
     "metadata": {},
     "output_type": "display_data"
    }
   ],
   "source": [
    "counter_ham_corpus=pd.DataFrame(Counter(ham_corpus).most_common(30))\n",
    "sns.barplot(x=0,y=1,data=counter_ham_corpus)\n",
    "plt.xticks(rotation='vertical')\n",
    "plt.show()"
   ]
  },
  {
   "cell_type": "markdown",
   "id": "b19234f8",
   "metadata": {
    "papermill": {
     "duration": 0.033897,
     "end_time": "2025-03-14T14:57:05.736771",
     "exception": false,
     "start_time": "2025-03-14T14:57:05.702874",
     "status": "completed"
    },
    "tags": []
   },
   "source": [
    "## model selection"
   ]
  },
  {
   "cell_type": "code",
   "execution_count": 68,
   "id": "865ac5ee",
   "metadata": {
    "execution": {
     "iopub.execute_input": "2025-03-14T14:57:05.807800Z",
     "iopub.status.busy": "2025-03-14T14:57:05.807306Z",
     "iopub.status.idle": "2025-03-14T14:57:06.134377Z",
     "shell.execute_reply": "2025-03-14T14:57:06.133122Z"
    },
    "papermill": {
     "duration": 0.365184,
     "end_time": "2025-03-14T14:57:06.136929",
     "exception": false,
     "start_time": "2025-03-14T14:57:05.771745",
     "status": "completed"
    },
    "tags": []
   },
   "outputs": [],
   "source": [
    "from sklearn.feature_extraction.text import CountVectorizer,TfidfVectorizer\n",
    "cv=CountVectorizer()\n",
    "tfidf=TfidfVectorizer(max_features=6000)\n",
    "x=tfidf.fit_transform(df['transformed_text']).toarray()"
   ]
  },
  {
   "cell_type": "code",
   "execution_count": 69,
   "id": "b78fe095",
   "metadata": {
    "execution": {
     "iopub.execute_input": "2025-03-14T14:57:06.208263Z",
     "iopub.status.busy": "2025-03-14T14:57:06.207825Z",
     "iopub.status.idle": "2025-03-14T14:57:06.216317Z",
     "shell.execute_reply": "2025-03-14T14:57:06.215000Z"
    },
    "papermill": {
     "duration": 0.047714,
     "end_time": "2025-03-14T14:57:06.218840",
     "exception": false,
     "start_time": "2025-03-14T14:57:06.171126",
     "status": "completed"
    },
    "tags": []
   },
   "outputs": [
    {
     "data": {
      "text/plain": [
       "(5169, 6000)"
      ]
     },
     "execution_count": 69,
     "metadata": {},
     "output_type": "execute_result"
    }
   ],
   "source": [
    "x.shape"
   ]
  },
  {
   "cell_type": "code",
   "execution_count": 70,
   "id": "4906e06e",
   "metadata": {
    "execution": {
     "iopub.execute_input": "2025-03-14T14:57:06.294394Z",
     "iopub.status.busy": "2025-03-14T14:57:06.293963Z",
     "iopub.status.idle": "2025-03-14T14:57:06.298963Z",
     "shell.execute_reply": "2025-03-14T14:57:06.297794Z"
    },
    "papermill": {
     "duration": 0.042619,
     "end_time": "2025-03-14T14:57:06.300836",
     "exception": false,
     "start_time": "2025-03-14T14:57:06.258217",
     "status": "completed"
    },
    "tags": []
   },
   "outputs": [],
   "source": [
    "y=df['target'].values"
   ]
  },
  {
   "cell_type": "code",
   "execution_count": 71,
   "id": "f457f6a7",
   "metadata": {
    "execution": {
     "iopub.execute_input": "2025-03-14T14:57:06.377732Z",
     "iopub.status.busy": "2025-03-14T14:57:06.377282Z",
     "iopub.status.idle": "2025-03-14T14:57:06.394415Z",
     "shell.execute_reply": "2025-03-14T14:57:06.393083Z"
    },
    "papermill": {
     "duration": 0.057777,
     "end_time": "2025-03-14T14:57:06.396891",
     "exception": false,
     "start_time": "2025-03-14T14:57:06.339114",
     "status": "completed"
    },
    "tags": []
   },
   "outputs": [],
   "source": [
    "from sklearn.naive_bayes import MultinomialNB,BernoulliNB,GaussianNB\n",
    "from sklearn.metrics import accuracy_score,precision_score,confusion_matrix\n",
    "mnb=MultinomialNB()\n",
    "bnb=BernoulliNB()\n",
    "gnb=GaussianNB()\n"
   ]
  },
  {
   "cell_type": "code",
   "execution_count": 72,
   "id": "9c7647d3",
   "metadata": {
    "execution": {
     "iopub.execute_input": "2025-03-14T14:57:06.471521Z",
     "iopub.status.busy": "2025-03-14T14:57:06.471078Z",
     "iopub.status.idle": "2025-03-14T14:57:08.409456Z",
     "shell.execute_reply": "2025-03-14T14:57:08.408084Z"
    },
    "papermill": {
     "duration": 1.979345,
     "end_time": "2025-03-14T14:57:08.411852",
     "exception": false,
     "start_time": "2025-03-14T14:57:06.432507",
     "status": "completed"
    },
    "tags": []
   },
   "outputs": [],
   "source": [
    "\n",
    "from imblearn.over_sampling import SMOTE\n",
    "\n",
    "smote = SMOTE(random_state=42)\n",
    "x_resampled, y_resampled = smote.fit_resample(x,y)\n",
    "df_x_resampled=pd.DataFrame(x_resampled)\n",
    "df_y_resampled=pd.DataFrame(y_resampled)"
   ]
  },
  {
   "cell_type": "code",
   "execution_count": 73,
   "id": "770efa7d",
   "metadata": {
    "execution": {
     "iopub.execute_input": "2025-03-14T14:57:08.580494Z",
     "iopub.status.busy": "2025-03-14T14:57:08.579885Z",
     "iopub.status.idle": "2025-03-14T14:57:08.989244Z",
     "shell.execute_reply": "2025-03-14T14:57:08.987818Z"
    },
    "papermill": {
     "duration": 0.453011,
     "end_time": "2025-03-14T14:57:08.991289",
     "exception": false,
     "start_time": "2025-03-14T14:57:08.538278",
     "status": "completed"
    },
    "tags": []
   },
   "outputs": [
    {
     "name": "stdout",
     "output_type": "stream",
     "text": [
      "<class 'pandas.core.frame.DataFrame'>\n",
      "RangeIndex: 9032 entries, 0 to 9031\n",
      "Columns: 6000 entries, 0 to 5999\n",
      "dtypes: float64(6000)\n",
      "memory usage: 413.5 MB\n"
     ]
    }
   ],
   "source": [
    "df_x_resampled.info()"
   ]
  },
  {
   "cell_type": "code",
   "execution_count": 74,
   "id": "b4c6eaf3",
   "metadata": {
    "execution": {
     "iopub.execute_input": "2025-03-14T14:57:09.064041Z",
     "iopub.status.busy": "2025-03-14T14:57:09.063605Z",
     "iopub.status.idle": "2025-03-14T14:57:09.077274Z",
     "shell.execute_reply": "2025-03-14T14:57:09.075865Z"
    },
    "papermill": {
     "duration": 0.051482,
     "end_time": "2025-03-14T14:57:09.080082",
     "exception": false,
     "start_time": "2025-03-14T14:57:09.028600",
     "status": "completed"
    },
    "tags": []
   },
   "outputs": [
    {
     "name": "stdout",
     "output_type": "stream",
     "text": [
      "<class 'pandas.core.frame.DataFrame'>\n",
      "RangeIndex: 9032 entries, 0 to 9031\n",
      "Data columns (total 1 columns):\n",
      " #   Column  Non-Null Count  Dtype  \n",
      "---  ------  --------------  -----  \n",
      " 0   0       4516 non-null   float64\n",
      "dtypes: float64(1)\n",
      "memory usage: 70.7 KB\n"
     ]
    }
   ],
   "source": [
    "df_y_resampled[df_y_resampled == 0].info()"
   ]
  },
  {
   "cell_type": "code",
   "execution_count": 75,
   "id": "10a8e5f3",
   "metadata": {
    "execution": {
     "iopub.execute_input": "2025-03-14T14:57:09.149394Z",
     "iopub.status.busy": "2025-03-14T14:57:09.149058Z",
     "iopub.status.idle": "2025-03-14T14:57:09.164184Z",
     "shell.execute_reply": "2025-03-14T14:57:09.162463Z"
    },
    "papermill": {
     "duration": 0.052549,
     "end_time": "2025-03-14T14:57:09.166353",
     "exception": false,
     "start_time": "2025-03-14T14:57:09.113804",
     "status": "completed"
    },
    "tags": []
   },
   "outputs": [
    {
     "name": "stdout",
     "output_type": "stream",
     "text": [
      "<class 'pandas.core.frame.DataFrame'>\n",
      "Index: 4516 entries, 0 to 5571\n",
      "Data columns (total 6 columns):\n",
      " #   Column            Non-Null Count  Dtype \n",
      "---  ------            --------------  ----- \n",
      " 0   target            4516 non-null   int64 \n",
      " 1   text              4516 non-null   object\n",
      " 2   num_characters    4516 non-null   int64 \n",
      " 3   num_words         4516 non-null   int64 \n",
      " 4   num_sentences     4516 non-null   int64 \n",
      " 5   transformed_text  4516 non-null   object\n",
      "dtypes: int64(4), object(2)\n",
      "memory usage: 247.0+ KB\n"
     ]
    }
   ],
   "source": [
    "df[df['target']==0].info()\n"
   ]
  },
  {
   "cell_type": "code",
   "execution_count": 76,
   "id": "6fe7449e",
   "metadata": {
    "execution": {
     "iopub.execute_input": "2025-03-14T14:57:09.238227Z",
     "iopub.status.busy": "2025-03-14T14:57:09.237775Z",
     "iopub.status.idle": "2025-03-14T14:57:09.334546Z",
     "shell.execute_reply": "2025-03-14T14:57:09.333099Z"
    },
    "papermill": {
     "duration": 0.135218,
     "end_time": "2025-03-14T14:57:09.336604",
     "exception": false,
     "start_time": "2025-03-14T14:57:09.201386",
     "status": "completed"
    },
    "tags": []
   },
   "outputs": [
    {
     "data": {
      "text/plain": [
       "([<matplotlib.patches.Wedge at 0x24da3bf6b70>,\n",
       "  <matplotlib.patches.Wedge at 0x24da3353dd0>],\n",
       " [Text(-4.8082529002048655e-08, 1.099999999999999, 'ham'),\n",
       "  Text(1.311736850028664e-08, -1.0999999999999999, 'spam')],\n",
       " [Text(-2.6226834001117445e-08, 0.5999999999999994, '50.00'),\n",
       "  Text(7.1549282728836204e-09, -0.5999999999999999, '50.00')])"
      ]
     },
     "execution_count": 76,
     "metadata": {},
     "output_type": "execute_result"
    },
    {
     "data": {
      "image/png": "[encoded data removed]",
      "text/plain": [
       "<Figure size 640x480 with 1 Axes>"
      ]
     },
     "metadata": {},
     "output_type": "display_data"
    }
   ],
   "source": [
    "plt.pie(df_y_resampled.value_counts(),labels=['ham','spam'],autopct=\"%0.2f\")"
   ]
  },
  {
   "cell_type": "code",
   "execution_count": 77,
   "id": "bd312463",
   "metadata": {
    "execution": {
     "iopub.execute_input": "2025-03-14T14:57:09.409121Z",
     "iopub.status.busy": "2025-03-14T14:57:09.408433Z",
     "iopub.status.idle": "2025-03-14T14:57:09.651928Z",
     "shell.execute_reply": "2025-03-14T14:57:09.650590Z"
    },
    "papermill": {
     "duration": 0.282125,
     "end_time": "2025-03-14T14:57:09.654076",
     "exception": false,
     "start_time": "2025-03-14T14:57:09.371951",
     "status": "completed"
    },
    "tags": []
   },
   "outputs": [],
   "source": [
    "from sklearn.model_selection import train_test_split\n",
    "x_train,x_test,y_train,y_test=train_test_split(df_x_resampled,df_y_resampled,test_size=0.2,random_state=2)\n"
   ]
  },
  {
   "cell_type": "code",
   "execution_count": 78,
   "id": "202194a8",
   "metadata": {
    "execution": {
     "iopub.execute_input": "2025-03-14T14:57:09.725259Z",
     "iopub.status.busy": "2025-03-14T14:57:09.724846Z",
     "iopub.status.idle": "2025-03-14T14:57:10.084529Z",
     "shell.execute_reply": "2025-03-14T14:57:10.082835Z"
    },
    "papermill": {
     "duration": 0.397763,
     "end_time": "2025-03-14T14:57:10.086840",
     "exception": false,
     "start_time": "2025-03-14T14:57:09.689077",
     "status": "completed"
    },
    "tags": []
   },
   "outputs": [
    {
     "name": "stdout",
     "output_type": "stream",
     "text": [
      "accuracy= 0.9789706696181516\n",
      "confusion matrix= [[881  25]\n",
      " [ 13 888]]\n",
      "precision score= 0.9726177437020811\n"
     ]
    },
    {
     "name": "stderr",
     "output_type": "stream",
     "text": [
      "c:\\Users\\arpan\\AppData\\Local\\Programs\\Python\\Python312\\Lib\\site-packages\\sklearn\\utils\\validation.py:1408: DataConversionWarning: A column-vector y was passed when a 1d array was expected. Please change the shape of y to (n_samples, ), for example using ravel().\n",
      "  y = column_or_1d(y, warn=True)\n"
     ]
    }
   ],
   "source": [
    "mnb.fit(x_train,y_train)\n",
    "y_pred1=mnb.predict(x_test)\n",
    "print('accuracy=',accuracy_score(y_test,y_pred1))\n",
    "print('confusion matrix=',confusion_matrix(y_test,y_pred1))\n",
    "print('precision score=',precision_score(y_test,y_pred1))"
   ]
  },
  {
   "cell_type": "code",
   "execution_count": 79,
   "id": "f9eb5517",
   "metadata": {
    "execution": {
     "iopub.execute_input": "2025-03-14T14:57:10.159991Z",
     "iopub.status.busy": "2025-03-14T14:57:10.159522Z",
     "iopub.status.idle": "2025-03-14T14:57:11.182195Z",
     "shell.execute_reply": "2025-03-14T14:57:11.180772Z"
    },
    "papermill": {
     "duration": 1.061359,
     "end_time": "2025-03-14T14:57:11.184324",
     "exception": false,
     "start_time": "2025-03-14T14:57:10.122965",
     "status": "completed"
    },
    "tags": []
   },
   "outputs": [
    {
     "name": "stderr",
     "output_type": "stream",
     "text": [
      "c:\\Users\\arpan\\AppData\\Local\\Programs\\Python\\Python312\\Lib\\site-packages\\sklearn\\utils\\validation.py:1408: DataConversionWarning: A column-vector y was passed when a 1d array was expected. Please change the shape of y to (n_samples, ), for example using ravel().\n",
      "  y = column_or_1d(y, warn=True)\n"
     ]
    },
    {
     "name": "stdout",
     "output_type": "stream",
     "text": [
      "accuracy= 0.9905921416712784\n",
      "confusion matrix= [[906   0]\n",
      " [ 17 884]]\n",
      "precision score= 1.0\n"
     ]
    }
   ],
   "source": [
    "bnb.fit(x_train,y_train)\n",
    "y_pred2=bnb.predict(x_test)\n",
    "print('accuracy=',accuracy_score(y_test,y_pred2))\n",
    "print('confusion matrix=',confusion_matrix(y_test,y_pred2))\n",
    "print('precision score=',precision_score(y_test,y_pred2))"
   ]
  },
  {
   "cell_type": "code",
   "execution_count": 80,
   "id": "66e96306",
   "metadata": {
    "execution": {
     "iopub.execute_input": "2025-03-14T14:57:11.262418Z",
     "iopub.status.busy": "2025-03-14T14:57:11.261932Z",
     "iopub.status.idle": "2025-03-14T14:57:12.824132Z",
     "shell.execute_reply": "2025-03-14T14:57:12.822828Z"
    },
    "papermill": {
     "duration": 1.60424,
     "end_time": "2025-03-14T14:57:12.826193",
     "exception": false,
     "start_time": "2025-03-14T14:57:11.221953",
     "status": "completed"
    },
    "tags": []
   },
   "outputs": [
    {
     "name": "stderr",
     "output_type": "stream",
     "text": [
      "c:\\Users\\arpan\\AppData\\Local\\Programs\\Python\\Python312\\Lib\\site-packages\\sklearn\\utils\\validation.py:1408: DataConversionWarning: A column-vector y was passed when a 1d array was expected. Please change the shape of y to (n_samples, ), for example using ravel().\n",
      "  y = column_or_1d(y, warn=True)\n"
     ]
    },
    {
     "name": "stdout",
     "output_type": "stream",
     "text": [
      "accuracy= 0.9236303265080243\n",
      "confusion matrix= [[768 138]\n",
      " [  0 901]]\n",
      "precision score= 0.8671799807507219\n"
     ]
    }
   ],
   "source": [
    "gnb.fit(x_train,y_train)\n",
    "y_pred3=gnb.predict(x_test)\n",
    "print('accuracy=',accuracy_score(y_test,y_pred3))\n",
    "print('confusion matrix=',confusion_matrix(y_test,y_pred3))\n",
    "print('precision score=',precision_score(y_test,y_pred3))"
   ]
  },
  {
   "cell_type": "code",
   "execution_count": 81,
   "id": "e8b9cab2",
   "metadata": {
    "execution": {
     "iopub.execute_input": "2025-03-14T14:57:12.900272Z",
     "iopub.status.busy": "2025-03-14T14:57:12.899875Z",
     "iopub.status.idle": "2025-03-14T14:57:13.275000Z",
     "shell.execute_reply": "2025-03-14T14:57:13.273256Z"
    },
    "papermill": {
     "duration": 0.415316,
     "end_time": "2025-03-14T14:57:13.277277",
     "exception": false,
     "start_time": "2025-03-14T14:57:12.861961",
     "status": "completed"
    },
    "tags": []
   },
   "outputs": [],
   "source": [
    "from sklearn.linear_model import LogisticRegression\n",
    "from sklearn.svm import SVC\n",
    "from sklearn.naive_bayes import MultinomialNB\n",
    "from sklearn.tree import DecisionTreeClassifier\n",
    "from sklearn.neighbors import KNeighborsClassifier\n",
    "from sklearn.ensemble import RandomForestClassifier\n",
    "from sklearn.ensemble import AdaBoostClassifier\n",
    "from sklearn.ensemble import BaggingClassifier\n",
    "from sklearn.ensemble import ExtraTreesClassifier\n",
    "from sklearn.ensemble import GradientBoostingClassifier\n",
    "from xgboost import XGBClassifier"
   ]
  },
  {
   "cell_type": "code",
   "execution_count": 82,
   "id": "1dd5536f",
   "metadata": {
    "execution": {
     "iopub.execute_input": "2025-03-14T14:57:13.352085Z",
     "iopub.status.busy": "2025-03-14T14:57:13.351714Z",
     "iopub.status.idle": "2025-03-14T14:57:13.358913Z",
     "shell.execute_reply": "2025-03-14T14:57:13.357237Z"
    },
    "papermill": {
     "duration": 0.047295,
     "end_time": "2025-03-14T14:57:13.361543",
     "exception": false,
     "start_time": "2025-03-14T14:57:13.314248",
     "status": "completed"
    },
    "tags": []
   },
   "outputs": [],
   "source": [
    "svc = SVC(kernel='sigmoid', gamma=1.0)\n",
    "knc = KNeighborsClassifier()\n",
    "mnb = MultinomialNB()\n",
    "dtc = DecisionTreeClassifier(max_depth=5)\n",
    "lrc = LogisticRegression(solver='liblinear', penalty='l1')\n",
    "rfc = RandomForestClassifier(n_estimators=50, random_state=2)\n",
    "abc = AdaBoostClassifier(n_estimators=50, random_state=2)\n",
    "bc = BaggingClassifier(n_estimators=50, random_state=2)\n",
    "etc = ExtraTreesClassifier(n_estimators=50, random_state=2)\n",
    "gbdt = GradientBoostingClassifier(n_estimators=50,random_state=2)\n",
    "xgb = XGBClassifier(n_estimators=50,random_state=2)"
   ]
  },
  {
   "cell_type": "code",
   "execution_count": 83,
   "id": "cb04ef21",
   "metadata": {
    "execution": {
     "iopub.execute_input": "2025-03-14T14:57:13.445984Z",
     "iopub.status.busy": "2025-03-14T14:57:13.445350Z",
     "iopub.status.idle": "2025-03-14T14:57:13.453052Z",
     "shell.execute_reply": "2025-03-14T14:57:13.451848Z"
    },
    "papermill": {
     "duration": 0.058325,
     "end_time": "2025-03-14T14:57:13.457858",
     "exception": false,
     "start_time": "2025-03-14T14:57:13.399533",
     "status": "completed"
    },
    "tags": []
   },
   "outputs": [],
   "source": [
    "def train_classifier(clf,x_train,y_train,x_test,y_test):\n",
    "    clf.fit(x_train,y_train)\n",
    "    y_pred=clf.predict(x_test)\n",
    "    accuracy=accuracy_score(y_test,y_pred)\n",
    "    precisions=precision_score(y_test,y_pred)\n",
    "    \n",
    "    return accuracy,precisions"
   ]
  },
  {
   "cell_type": "code",
   "execution_count": 84,
   "id": "23910cab",
   "metadata": {
    "execution": {
     "iopub.execute_input": "2025-03-14T14:57:13.574156Z",
     "iopub.status.busy": "2025-03-14T14:57:13.573763Z",
     "iopub.status.idle": "2025-03-14T14:57:13.919742Z",
     "shell.execute_reply": "2025-03-14T14:57:13.918336Z"
    },
    "papermill": {
     "duration": 0.400027,
     "end_time": "2025-03-14T14:57:13.921641",
     "exception": false,
     "start_time": "2025-03-14T14:57:13.521614",
     "status": "completed"
    },
    "tags": []
   },
   "outputs": [
    {
     "name": "stderr",
     "output_type": "stream",
     "text": [
      "c:\\Users\\arpan\\AppData\\Local\\Programs\\Python\\Python312\\Lib\\site-packages\\sklearn\\utils\\validation.py:1408: DataConversionWarning: A column-vector y was passed when a 1d array was expected. Please change the shape of y to (n_samples, ), for example using ravel().\n",
      "  y = column_or_1d(y, warn=True)\n"
     ]
    },
    {
     "data": {
      "text/plain": [
       "(0.9789706696181516, 0.9726177437020811)"
      ]
     },
     "execution_count": 84,
     "metadata": {},
     "output_type": "execute_result"
    }
   ],
   "source": [
    "train_classifier(mnb,x_train,y_train,x_test,y_test)"
   ]
  },
  {
   "cell_type": "code",
   "execution_count": 85,
   "id": "77e04210",
   "metadata": {
    "execution": {
     "iopub.execute_input": "2025-03-14T14:57:13.995876Z",
     "iopub.status.busy": "2025-03-14T14:57:13.995476Z",
     "iopub.status.idle": "2025-03-14T14:57:14.001231Z",
     "shell.execute_reply": "2025-03-14T14:57:13.999527Z"
    },
    "papermill": {
     "duration": 0.047174,
     "end_time": "2025-03-14T14:57:14.004934",
     "exception": false,
     "start_time": "2025-03-14T14:57:13.957760",
     "status": "completed"
    },
    "tags": []
   },
   "outputs": [],
   "source": [
    "clfs={\n",
    "    'SVC':svc,\n",
    "    'KN':knc,\n",
    "    'NB':mnb,\n",
    "    'DT':dtc,\n",
    "    'LR':lrc,\n",
    "    'RF':rfc,\n",
    "    'BNB':bnb\n",
    "}"
   ]
  },
  {
   "cell_type": "code",
   "execution_count": 86,
   "id": "3bf2b50f",
   "metadata": {
    "execution": {
     "iopub.execute_input": "2025-03-14T14:57:14.081319Z",
     "iopub.status.busy": "2025-03-14T14:57:14.080842Z",
     "iopub.status.idle": "2025-03-14T14:58:56.952863Z",
     "shell.execute_reply": "2025-03-14T14:58:56.951302Z"
    },
    "papermill": {
     "duration": 102.912289,
     "end_time": "2025-03-14T14:58:56.955392",
     "exception": false,
     "start_time": "2025-03-14T14:57:14.043103",
     "status": "completed"
    },
    "tags": []
   },
   "outputs": [
    {
     "name": "stderr",
     "output_type": "stream",
     "text": [
      "c:\\Users\\arpan\\AppData\\Local\\Programs\\Python\\Python312\\Lib\\site-packages\\sklearn\\utils\\validation.py:1408: DataConversionWarning: A column-vector y was passed when a 1d array was expected. Please change the shape of y to (n_samples, ), for example using ravel().\n",
      "  y = column_or_1d(y, warn=True)\n"
     ]
    },
    {
     "name": "stdout",
     "output_type": "stream",
     "text": [
      "for SVC\n",
      "clf= SVC(gamma=1.0, kernel='sigmoid')\n",
      "accuracy= 0.9662423907028224\n",
      "precision= 0.9783599088838268\n"
     ]
    },
    {
     "name": "stderr",
     "output_type": "stream",
     "text": [
      "c:\\Users\\arpan\\AppData\\Local\\Programs\\Python\\Python312\\Lib\\site-packages\\sklearn\\neighbors\\_classification.py:239: DataConversionWarning: A column-vector y was passed when a 1d array was expected. Please change the shape of y to (n_samples,), for example using ravel().\n",
      "  return self._fit(X, y)\n"
     ]
    },
    {
     "name": "stdout",
     "output_type": "stream",
     "text": [
      "for KN\n",
      "clf= KNeighborsClassifier()\n",
      "accuracy= 0.7094631986718317\n",
      "precision= 0.6350574712643678\n",
      "for NB\n",
      "clf= MultinomialNB()\n",
      "accuracy= 0.9789706696181516\n",
      "precision= 0.9726177437020811\n"
     ]
    },
    {
     "name": "stderr",
     "output_type": "stream",
     "text": [
      "c:\\Users\\arpan\\AppData\\Local\\Programs\\Python\\Python312\\Lib\\site-packages\\sklearn\\utils\\validation.py:1408: DataConversionWarning: A column-vector y was passed when a 1d array was expected. Please change the shape of y to (n_samples, ), for example using ravel().\n",
      "  y = column_or_1d(y, warn=True)\n"
     ]
    },
    {
     "name": "stdout",
     "output_type": "stream",
     "text": [
      "for DT\n",
      "clf= DecisionTreeClassifier(max_depth=5)\n",
      "accuracy= 0.9120088544548977\n",
      "precision= 0.9244851258581236\n",
      "for LR\n",
      "clf= LogisticRegression(penalty='l1', solver='liblinear')\n",
      "accuracy= 0.9479800774764804\n",
      "precision= 0.9741480611045829\n"
     ]
    },
    {
     "name": "stderr",
     "output_type": "stream",
     "text": [
      "c:\\Users\\arpan\\AppData\\Local\\Programs\\Python\\Python312\\Lib\\site-packages\\sklearn\\utils\\validation.py:1408: DataConversionWarning: A column-vector y was passed when a 1d array was expected. Please change the shape of y to (n_samples, ), for example using ravel().\n",
      "  y = column_or_1d(y, warn=True)\n",
      "c:\\Users\\arpan\\AppData\\Local\\Programs\\Python\\Python312\\Lib\\site-packages\\sklearn\\base.py:1389: DataConversionWarning: A column-vector y was passed when a 1d array was expected. Please change the shape of y to (n_samples,), for example using ravel().\n",
      "  return fit_method(estimator, *args, **kwargs)\n"
     ]
    },
    {
     "name": "stdout",
     "output_type": "stream",
     "text": [
      "for RF\n",
      "clf= RandomForestClassifier(n_estimators=50, random_state=2)\n",
      "accuracy= 0.9894853348090759\n",
      "precision= 0.9977426636568849\n"
     ]
    },
    {
     "name": "stderr",
     "output_type": "stream",
     "text": [
      "c:\\Users\\arpan\\AppData\\Local\\Programs\\Python\\Python312\\Lib\\site-packages\\sklearn\\utils\\validation.py:1408: DataConversionWarning: A column-vector y was passed when a 1d array was expected. Please change the shape of y to (n_samples, ), for example using ravel().\n",
      "  y = column_or_1d(y, warn=True)\n"
     ]
    },
    {
     "name": "stdout",
     "output_type": "stream",
     "text": [
      "for BNB\n",
      "clf= BernoulliNB()\n",
      "accuracy= 0.9905921416712784\n",
      "precision= 1.0\n"
     ]
    }
   ],
   "source": [
    "accuracy_scores=[]\n",
    "prescore=[]\n",
    "for name,clf in clfs.items():\n",
    "    current_accuracy,current_precision=train_classifier(clf,x_train,y_train,x_test,y_test)\n",
    "    print('for',name)\n",
    "    print('clf=',clf)\n",
    "    print('accuracy=',current_accuracy)\n",
    "    print('precision=',current_precision)\n",
    "    accuracy_scores.append(current_accuracy)\n",
    "    prescore.append(current_precision)\n",
    "    "
   ]
  },
  {
   "cell_type": "code",
   "execution_count": 87,
   "id": "804e9e06",
   "metadata": {
    "execution": {
     "iopub.execute_input": "2025-03-14T14:58:57.059315Z",
     "iopub.status.busy": "2025-03-14T14:58:57.058698Z",
     "iopub.status.idle": "2025-03-14T14:58:57.067127Z",
     "shell.execute_reply": "2025-03-14T14:58:57.065815Z"
    },
    "papermill": {
     "duration": 0.063862,
     "end_time": "2025-03-14T14:58:57.069062",
     "exception": false,
     "start_time": "2025-03-14T14:58:57.005200",
     "status": "completed"
    },
    "tags": []
   },
   "outputs": [],
   "source": [
    "performance_df=pd.DataFrame({'model':clfs.keys(),'accuracy':accuracy_scores,'precision':prescore}).sort_values('precision',ascending=False)"
   ]
  },
  {
   "cell_type": "code",
   "execution_count": 88,
   "id": "890211d7",
   "metadata": {
    "execution": {
     "iopub.execute_input": "2025-03-14T14:58:57.145777Z",
     "iopub.status.busy": "2025-03-14T14:58:57.145312Z",
     "iopub.status.idle": "2025-03-14T14:58:57.157222Z",
     "shell.execute_reply": "2025-03-14T14:58:57.155884Z"
    },
    "papermill": {
     "duration": 0.052788,
     "end_time": "2025-03-14T14:58:57.159307",
     "exception": false,
     "start_time": "2025-03-14T14:58:57.106519",
     "status": "completed"
    },
    "tags": []
   },
   "outputs": [
    {
     "data": {
      "text/html": [
       "<div>\n",
       "<style scoped>\n",
       "    .dataframe tbody tr th:only-of-type {\n",
       "        vertical-align: middle;\n",
       "    }\n",
       "\n",
       "    .dataframe tbody tr th {\n",
       "        vertical-align: top;\n",
       "    }\n",
       "\n",
       "    .dataframe thead th {\n",
       "        text-align: right;\n",
       "    }\n",
       "</style>\n",
       "<table border=\"1\" class=\"dataframe\">\n",
       "  <thead>\n",
       "    <tr style=\"text-align: right;\">\n",
       "      <th></th>\n",
       "      <th>model</th>\n",
       "      <th>accuracy</th>\n",
       "      <th>precision</th>\n",
       "    </tr>\n",
       "  </thead>\n",
       "  <tbody>\n",
       "    <tr>\n",
       "      <th>6</th>\n",
       "      <td>BNB</td>\n",
       "      <td>0.990592</td>\n",
       "      <td>1.000000</td>\n",
       "    </tr>\n",
       "    <tr>\n",
       "      <th>5</th>\n",
       "      <td>RF</td>\n",
       "      <td>0.989485</td>\n",
       "      <td>0.997743</td>\n",
       "    </tr>\n",
       "    <tr>\n",
       "      <th>0</th>\n",
       "      <td>SVC</td>\n",
       "      <td>0.966242</td>\n",
       "      <td>0.978360</td>\n",
       "    </tr>\n",
       "    <tr>\n",
       "      <th>4</th>\n",
       "      <td>LR</td>\n",
       "      <td>0.947980</td>\n",
       "      <td>0.974148</td>\n",
       "    </tr>\n",
       "    <tr>\n",
       "      <th>2</th>\n",
       "      <td>NB</td>\n",
       "      <td>0.978971</td>\n",
       "      <td>0.972618</td>\n",
       "    </tr>\n",
       "    <tr>\n",
       "      <th>3</th>\n",
       "      <td>DT</td>\n",
       "      <td>0.912009</td>\n",
       "      <td>0.924485</td>\n",
       "    </tr>\n",
       "    <tr>\n",
       "      <th>1</th>\n",
       "      <td>KN</td>\n",
       "      <td>0.709463</td>\n",
       "      <td>0.635057</td>\n",
       "    </tr>\n",
       "  </tbody>\n",
       "</table>\n",
       "</div>"
      ],
      "text/plain": [
       "  model  accuracy  precision\n",
       "6   BNB  0.990592   1.000000\n",
       "5    RF  0.989485   0.997743\n",
       "0   SVC  0.966242   0.978360\n",
       "4    LR  0.947980   0.974148\n",
       "2    NB  0.978971   0.972618\n",
       "3    DT  0.912009   0.924485\n",
       "1    KN  0.709463   0.635057"
      ]
     },
     "execution_count": 88,
     "metadata": {},
     "output_type": "execute_result"
    }
   ],
   "source": [
    "performance_df"
   ]
  },
  {
   "cell_type": "code",
   "execution_count": 89,
   "id": "0e8850fb",
   "metadata": {
    "execution": {
     "iopub.execute_input": "2025-03-14T14:58:57.235537Z",
     "iopub.status.busy": "2025-03-14T14:58:57.235115Z",
     "iopub.status.idle": "2025-03-14T14:58:57.240104Z",
     "shell.execute_reply": "2025-03-14T14:58:57.238843Z"
    },
    "papermill": {
     "duration": 0.045266,
     "end_time": "2025-03-14T14:58:57.242166",
     "exception": false,
     "start_time": "2025-03-14T14:58:57.196900",
     "status": "completed"
    },
    "tags": []
   },
   "outputs": [],
   "source": [
    "import pickle\n"
   ]
  },
  {
   "cell_type": "code",
   "execution_count": 90,
   "id": "5a935f07",
   "metadata": {
    "execution": {
     "iopub.execute_input": "2025-03-14T14:58:57.319290Z",
     "iopub.status.busy": "2025-03-14T14:58:57.318688Z",
     "iopub.status.idle": "2025-03-14T14:58:57.359537Z",
     "shell.execute_reply": "2025-03-14T14:58:57.358268Z"
    },
    "papermill": {
     "duration": 0.082191,
     "end_time": "2025-03-14T14:58:57.362013",
     "exception": false,
     "start_time": "2025-03-14T14:58:57.279822",
     "status": "completed"
    },
    "tags": []
   },
   "outputs": [],
   "source": [
    "pickle.dump(tfidf,open('vectoriser.pkl','wb'))\n",
    "pickle.dump(bnb,open('model.pkl','wb'))"
   ]
  },
  {
   "cell_type": "code",
   "execution_count": 91,
   "id": "f7084853",
   "metadata": {
    "execution": {
     "iopub.execute_input": "2025-03-14T14:58:57.450267Z",
     "iopub.status.busy": "2025-03-14T14:58:57.449700Z",
     "iopub.status.idle": "2025-03-14T14:58:57.471707Z",
     "shell.execute_reply": "2025-03-14T14:58:57.470336Z"
    },
    "papermill": {
     "duration": 0.066085,
     "end_time": "2025-03-14T14:58:57.473991",
     "exception": false,
     "start_time": "2025-03-14T14:58:57.407906",
     "status": "completed"
    },
    "tags": []
   },
   "outputs": [],
   "source": [
    "texts=(\"Congrats! You’ve been selected for a $1,000 gift card. Redeem now before it expires: OfferCode: WINBIG2024. Terms apply. Reply STOP to unsubscribe\")\n",
    "transformed_sms = transform_text(texts)\n",
    "vec_sms = tfidf.transform([transformed_sms])\n",
    "results = rfc.predict(vec_sms)[0]"
   ]
  },
  {
   "cell_type": "code",
   "execution_count": 92,
   "id": "bdf3e55d",
   "metadata": {
    "execution": {
     "iopub.execute_input": "2025-03-14T14:58:57.558458Z",
     "iopub.status.busy": "2025-03-14T14:58:57.557622Z",
     "iopub.status.idle": "2025-03-14T14:58:57.565461Z",
     "shell.execute_reply": "2025-03-14T14:58:57.564361Z"
    },
    "papermill": {
     "duration": 0.053986,
     "end_time": "2025-03-14T14:58:57.567869",
     "exception": false,
     "start_time": "2025-03-14T14:58:57.513883",
     "status": "completed"
    },
    "tags": []
   },
   "outputs": [
    {
     "data": {
      "text/plain": [
       "np.int64(0)"
      ]
     },
     "execution_count": 92,
     "metadata": {},
     "output_type": "execute_result"
    }
   ],
   "source": [
    "results"
   ]
  }
 ],
 "metadata": {
  "kaggle": {
   "accelerator": "none",
   "dataSources": [
    {
     "datasetId": 483,
     "sourceId": 982,
     "sourceType": "datasetVersion"
    }
   ],
   "dockerImageVersionId": 30918,
   "isGpuEnabled": false,
   "isInternetEnabled": false,
   "language": "python",
   "sourceType": "notebook"
  },
  "kernelspec": {
   "display_name": "Python 3",
   "language": "python",
   "name": "python3"
  },
  "language_info": {
   "codemirror_mode": {
    "name": "ipython",
    "version": 3
   },
   "file_extension": ".py",
   "mimetype": "text/x-python",
   "name": "python",
   "nbconvert_exporter": "python",
   "pygments_lexer": "ipython3",
   "version": "3.12.5"
  },
  "papermill": {
   "default_parameters": {},
   "duration": 212.715419,
   "end_time": "2025-03-14T14:58:59.116964",
   "environment_variables": {},
   "exception": null,
   "input_path": "__notebook__.ipynb",
   "output_path": "__notebook__.ipynb",
   "parameters": {},
   "start_time": "2025-03-14T14:55:26.401545",
   "version": "2.6.0"
  }
 },
 "nbformat": 4,
 "nbformat_minor": 5
}
